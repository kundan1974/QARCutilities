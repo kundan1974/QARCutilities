{
 "cells": [
  {
   "cell_type": "code",
   "execution_count": 1,
   "metadata": {},
   "outputs": [],
   "source": [
    "import os\n",
    "from utilities import preprocessDICOM\n",
    "import numpy as np"
   ]
  },
  {
   "cell_type": "code",
   "execution_count": 2,
   "metadata": {},
   "outputs": [],
   "source": [
    "path2dcm = '../ImageData/Esophagus_DICOM_211Pt/'\n",
    "outputdir = '../imagedata/Eso_Numpy_ZeroCent_211/'"
   ]
  },
  {
   "cell_type": "code",
   "execution_count": 3,
   "metadata": {},
   "outputs": [
    {
     "data": {
      "text/plain": [
       "211"
      ]
     },
     "execution_count": 3,
     "metadata": {},
     "output_type": "execute_result"
    }
   ],
   "source": [
    "pathlist = []\n",
    "RTstrfiles=[]\n",
    "for x,_,_ in os.walk(path2dcm):\n",
    "    pathlist.append(x)\n",
    "pathlist.pop(0)\n",
    "len(pathlist)"
   ]
  },
  {
   "cell_type": "code",
   "execution_count": 4,
   "metadata": {},
   "outputs": [
    {
     "name": "stdout",
     "output_type": "stream",
     "text": [
      "Structure(gtv_1) not found. Found Match points Structure\n",
      "../imagedata/Eso_Numpy_ZeroCent_211/260194.npy cropped Successfully\n"
     ]
    }
   ],
   "source": [
    "DoneFiles = []\n",
    "NotDoneFiles = []\n",
    "for k in range(len(pathlist)):\n",
    "    path2Rtstr = []\n",
    "    for i in os.listdir(pathlist[k]):\n",
    "        if 'RS' in i:\n",
    "            path2Rtstr.append(i)\n",
    "    RTstrPath = os.path.join(pathlist[k],path2Rtstr[0])\n",
    "    DICOMpath = pathlist[k]\n",
    "    fname = outputdir + RTstrPath[-10:][:6] + '.npy'\n",
    "    try:\n",
    "        img = preprocessDICOM.preprocess(DICOMpath,RTstrPath,zero=True)\n",
    "    except:\n",
    "        print(f'Could not convert -- {fname}')\n",
    "        NotDoneFiles.append(fname)\n",
    "    np.save(fname,img)\n",
    "    print(f'{fname} cropped Successfully')\n",
    "    DoneFiles.append(fname)"
   ]
  },
  {
   "cell_type": "code",
   "execution_count": 5,
   "metadata": {},
   "outputs": [
    {
     "data": {
      "text/plain": [
       "['../imagedata/Eso_Numpy_ZeroCent_211/260194.npy']"
      ]
     },
     "execution_count": 5,
     "metadata": {},
     "output_type": "execute_result"
    }
   ],
   "source": [
    "DoneFiles"
   ]
  },
  {
   "cell_type": "code",
   "execution_count": null,
   "metadata": {},
   "outputs": [],
   "source": []
  }
 ],
 "metadata": {
  "kernelspec": {
   "display_name": "Python 3",
   "language": "python",
   "name": "python3"
  },
  "language_info": {
   "codemirror_mode": {
    "name": "ipython",
    "version": 3
   },
   "file_extension": ".py",
   "mimetype": "text/x-python",
   "name": "python",
   "nbconvert_exporter": "python",
   "pygments_lexer": "ipython3",
   "version": "3.7.1"
  }
 },
 "nbformat": 4,
 "nbformat_minor": 5
}
