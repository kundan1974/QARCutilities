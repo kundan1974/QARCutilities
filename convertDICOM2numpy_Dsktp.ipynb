{
 "cells": [
  {
   "cell_type": "code",
   "execution_count": 1,
   "id": "infrared-return",
   "metadata": {},
   "outputs": [],
   "source": [
    "import os\n",
    "from utilities import preprocessDICOM\n",
    "import numpy as np"
   ]
  },
  {
   "cell_type": "code",
   "execution_count": 4,
   "id": "present-silence",
   "metadata": {},
   "outputs": [],
   "source": [
    "path2dcm = '../imagedata/Esophagus_DICOM_211Pt/'\n",
    "outputdir = '../imagedata/Eso_Numpy_NoZeroCent_211/'"
   ]
  },
  {
   "cell_type": "code",
   "execution_count": 3,
   "id": "corrected-party",
   "metadata": {},
   "outputs": [
    {
     "data": {
      "text/plain": [
       "211"
      ]
     },
     "execution_count": 3,
     "metadata": {},
     "output_type": "execute_result"
    }
   ],
   "source": [
    "pathlist = []\n",
    "RTstrfiles=[]\n",
    "for x,_,_ in os.walk(path2dcm):\n",
    "    pathlist.append(x)\n",
    "pathlist.pop(0)\n",
    "len(pathlist)"
   ]
  },
  {
   "cell_type": "code",
   "execution_count": 6,
   "id": "geographic-accountability",
   "metadata": {},
   "outputs": [],
   "source": [
    "for k in range(len(pathlist)):\n",
    "    path2Rtstr = []\n",
    "    for i in os.listdir(pathlist[k]):\n",
    "        if 'RS' in i:\n",
    "            path2Rtstr.append(i)\n",
    "    RTstrPath = os.path.join(pathlist[k],path2Rtstr[0])\n",
    "    DICOMpath = pathlist[k]\n",
    "    fname = outputdir + RTstrPath[-10:][:6] + '.npy'\n",
    "    img = preprocessDICOM.preprocess(DICOMpath,RTstrPath,zero=False)\n",
    "    np.save(fname,img)"
   ]
  },
  {
   "cell_type": "code",
   "execution_count": null,
   "id": "previous-virtue",
   "metadata": {},
   "outputs": [],
   "source": []
  }
 ],
 "metadata": {
  "kernelspec": {
   "display_name": "Python 3",
   "language": "python",
   "name": "python3"
  },
  "language_info": {
   "codemirror_mode": {
    "name": "ipython",
    "version": 3
   },
   "file_extension": ".py",
   "mimetype": "text/x-python",
   "name": "python",
   "nbconvert_exporter": "python",
   "pygments_lexer": "ipython3",
   "version": "3.8.6"
  }
 },
 "nbformat": 4,
 "nbformat_minor": 5
}
