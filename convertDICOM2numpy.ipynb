{
 "cells": [
  {
   "cell_type": "code",
   "execution_count": null,
   "id": "infrared-return",
   "metadata": {},
   "outputs": [],
   "source": [
    "import os\n",
    "from utilities import preprocessDICOM\n",
    "import numpy as np"
   ]
  },
  {
   "cell_type": "code",
   "execution_count": null,
   "id": "present-silence",
   "metadata": {},
   "outputs": [],
   "source": [
    "path2dcm = 'D:\\\\imagedata\\\\Esophagus_DICOM_211Pt\\\\'\n",
    "outputdir = 'D:\\\\imagedata\\\\Eso_Numpy_NoZeroCent_211\\\\'"
   ]
  },
  {
   "cell_type": "code",
   "execution_count": null,
   "id": "corrected-party",
   "metadata": {},
   "outputs": [],
   "source": [
    "pathlist = []\n",
    "RTstrfiles=[]\n",
    "for x,_,_ in os.walk(path2dcm):\n",
    "    pathlist.append(x)\n",
    "pathlist.pop(0)\n",
    "len(pathlist)"
   ]
  },
  {
   "cell_type": "code",
   "execution_count": null,
   "id": "geographic-accountability",
   "metadata": {},
   "outputs": [],
   "source": [
    "R_pathlist = pathlist[180:181]\n",
    "DoneFiles = []\n",
    "NotDoneFiles = []\n",
    "for k in range(len(R_pathlist)):\n",
    "    path2Rtstr = []\n",
    "    for i in os.listdir(R_pathlist[k]):\n",
    "        if 'RS' in i:\n",
    "            path2Rtstr.append(i)\n",
    "    RTstrPath = os.path.join(R_pathlist[k],path2Rtstr[0])\n",
    "    DICOMpath = R_pathlist[k]\n",
    "    fname = outputdir + RTstrPath[-10:][:6] + '.npy'\n",
    "    try:\n",
    "        img = preprocessDICOM.preprocess(DICOMpath,RTstrPath,zero=False)\n",
    "    except:\n",
    "        print(f'Could not Convert -- {fname}')\n",
    "        NotDoneFiles.append(fname)\n",
    "    np.save(fname,img)\n",
    "    print(f'{fname} Cropped Successfully')\n",
    "    DoneFiles.append(fname)"
   ]
  },
  {
   "cell_type": "markdown",
   "id": "8be9e8e4",
   "metadata": {},
   "source": [
    "# Not Converted\n",
    "- 'D:\\\\imagedata\\\\Eso_Numpy_NoZeroCent_211\\\\260194.npy' had value error\n",
    "- 'D:\\\\imagedata\\\\Eso_Numpy_NoZeroCent_211\\\\261282.npy' was Missed"
   ]
  },
  {
   "cell_type": "code",
   "execution_count": null,
   "id": "a6d43138",
   "metadata": {},
   "outputs": [],
   "source": [
    "pathlist[180:181]"
   ]
  },
  {
   "cell_type": "code",
   "execution_count": 1,
   "id": "1021741c",
   "metadata": {},
   "outputs": [],
   "source": [
    "from utilities import DynamicCrop"
   ]
  },
  {
   "cell_type": "code",
   "execution_count": 5,
   "id": "d2f79744",
   "metadata": {
    "scrolled": true
   },
   "outputs": [
    {
     "name": "stderr",
     "output_type": "stream",
     "text": [
      "2021-04-13 09:00:33,109 - root - INFO - Going to start cropping for 260194_image.nii.gz images\n",
      "2021-04-13 09:00:33,109 - root - INFO - Going to start cropping for 260194_image.nii.gz images\n",
      "2021-04-13 09:01:42,858 - root - INFO - Finished cropping for 260194_image.nii.gz images\n",
      "2021-04-13 09:01:42,858 - root - INFO - Finished cropping for 260194_image.nii.gz images\n",
      "2021-04-13 09:01:42,909 - root - INFO - 1 images are cropped. Details are saved in a file named \"converted_list.csv\" and path to file is:D:/imagedata/Eso_Numpy_NoZeroCent_211\n",
      "2021-04-13 09:01:42,909 - root - INFO - 1 images are cropped. Details are saved in a file named \"converted_list.csv\" and path to file is:D:/imagedata/Eso_Numpy_NoZeroCent_211\n"
     ]
    },
    {
     "data": {
      "text/html": [
       "<div>\n",
       "<style scoped>\n",
       "    .dataframe tbody tr th:only-of-type {\n",
       "        vertical-align: middle;\n",
       "    }\n",
       "\n",
       "    .dataframe tbody tr th {\n",
       "        vertical-align: top;\n",
       "    }\n",
       "\n",
       "    .dataframe thead th {\n",
       "        text-align: right;\n",
       "    }\n",
       "</style>\n",
       "<table border=\"1\" class=\"dataframe\">\n",
       "  <thead>\n",
       "    <tr style=\"text-align: right;\">\n",
       "      <th></th>\n",
       "      <th>X</th>\n",
       "      <th>Y</th>\n",
       "      <th>Z</th>\n",
       "      <th>CRnumber</th>\n",
       "    </tr>\n",
       "  </thead>\n",
       "  <tbody>\n",
       "    <tr>\n",
       "      <th>0</th>\n",
       "      <td>64</td>\n",
       "      <td>64</td>\n",
       "      <td>64</td>\n",
       "      <td>260194</td>\n",
       "    </tr>\n",
       "  </tbody>\n",
       "</table>\n",
       "</div>"
      ],
      "text/plain": [
       "    X   Y   Z CRnumber\n",
       "0  64  64  64   260194"
      ]
     },
     "execution_count": 5,
     "metadata": {},
     "output_type": "execute_result"
    }
   ],
   "source": [
    "DynamicCrop.DynamicCrop(Path2ImgMsk='D:/ImageData/Esophagus_NIFTI_260194',\n",
    "                        outpath='D:/imagedata/Eso_Numpy_NoZeroCent_211',crop_fact=64,zero_centering=False)"
   ]
  },
  {
   "cell_type": "code",
   "execution_count": null,
   "id": "6e1bfb39",
   "metadata": {},
   "outputs": [],
   "source": []
  }
 ],
 "metadata": {
  "kernelspec": {
   "display_name": "Python 3",
   "language": "python",
   "name": "python3"
  },
  "language_info": {
   "codemirror_mode": {
    "name": "ipython",
    "version": 3
   },
   "file_extension": ".py",
   "mimetype": "text/x-python",
   "name": "python",
   "nbconvert_exporter": "python",
   "pygments_lexer": "ipython3",
   "version": "3.8.6"
  }
 },
 "nbformat": 4,
 "nbformat_minor": 5
}
