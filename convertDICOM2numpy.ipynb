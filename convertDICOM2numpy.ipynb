{
 "cells": [
  {
   "cell_type": "code",
   "execution_count": 2,
   "id": "infrared-return",
   "metadata": {},
   "outputs": [],
   "source": [
    "import os\n",
    "from utilities import preprocessDICOM\n",
    "import numpy as np"
   ]
  },
  {
   "cell_type": "code",
   "execution_count": null,
   "id": "present-silence",
   "metadata": {},
   "outputs": [],
   "source": [
    "path2dcm = 'D:\\\\imagedata\\\\Esophagus_DICOM_211Pt\\\\'\n",
    "outputdir = 'D:\\\\imagedata\\\\Eso_Numpy_NoZeroCent_211\\\\'"
   ]
  },
  {
   "cell_type": "code",
   "execution_count": null,
   "id": "corrected-party",
   "metadata": {},
   "outputs": [],
   "source": [
    "pathlist = []\n",
    "RTstrfiles=[]\n",
    "for x,_,_ in os.walk(path2dcm):\n",
    "    pathlist.append(x)\n",
    "pathlist.pop(0)\n",
    "len(pathlist)"
   ]
  },
  {
   "cell_type": "code",
   "execution_count": null,
   "id": "geographic-accountability",
   "metadata": {},
   "outputs": [],
   "source": [
    "R_pathlist = pathlist[180:181]\n",
    "DoneFiles = []\n",
    "NotDoneFiles = []\n",
    "for k in range(len(R_pathlist)):\n",
    "    path2Rtstr = []\n",
    "    for i in os.listdir(R_pathlist[k]):\n",
    "        if 'RS' in i:\n",
    "            path2Rtstr.append(i)\n",
    "    RTstrPath = os.path.join(R_pathlist[k],path2Rtstr[0])\n",
    "    DICOMpath = R_pathlist[k]\n",
    "    fname = outputdir + RTstrPath[-10:][:6] + '.npy'\n",
    "    try:\n",
    "        img = preprocessDICOM.preprocess(DICOMpath,RTstrPath,zero=False)\n",
    "    except:\n",
    "        print(f'Could not Convert -- {fname}')\n",
    "        NotDoneFiles.append(fname)\n",
    "    np.save(fname,img)\n",
    "    print(f'{fname} Cropped Successfully')\n",
    "    DoneFiles.append(fname)"
   ]
  },
  {
   "cell_type": "markdown",
   "id": "8be9e8e4",
   "metadata": {},
   "source": [
    "# Not Converted\n",
    "- 'D:\\\\imagedata\\\\Eso_Numpy_NoZeroCent_211\\\\260194.npy' had value error\n",
    "- 'D:\\\\imagedata\\\\Eso_Numpy_NoZeroCent_211\\\\261282.npy' was Missed"
   ]
  },
  {
   "cell_type": "code",
   "execution_count": null,
   "id": "a6d43138",
   "metadata": {},
   "outputs": [],
   "source": [
    "pathlist[180:181]"
   ]
  },
  {
   "cell_type": "code",
   "execution_count": 1,
   "id": "1021741c",
   "metadata": {},
   "outputs": [],
   "source": [
    "from utilities import DynamicCrop"
   ]
  },
  {
   "cell_type": "code",
   "execution_count": 5,
   "id": "d2f79744",
   "metadata": {
    "scrolled": true
   },
   "outputs": [
    {
     "name": "stderr",
     "output_type": "stream",
     "text": [
      "2021-04-13 09:00:33,109 - root - INFO - Going to start cropping for 260194_image.nii.gz images\n",
      "2021-04-13 09:00:33,109 - root - INFO - Going to start cropping for 260194_image.nii.gz images\n",
      "2021-04-13 09:01:42,858 - root - INFO - Finished cropping for 260194_image.nii.gz images\n",
      "2021-04-13 09:01:42,858 - root - INFO - Finished cropping for 260194_image.nii.gz images\n",
      "2021-04-13 09:01:42,909 - root - INFO - 1 images are cropped. Details are saved in a file named \"converted_list.csv\" and path to file is:D:/imagedata/Eso_Numpy_NoZeroCent_211\n",
      "2021-04-13 09:01:42,909 - root - INFO - 1 images are cropped. Details are saved in a file named \"converted_list.csv\" and path to file is:D:/imagedata/Eso_Numpy_NoZeroCent_211\n"
     ]
    },
    {
     "data": {
      "text/html": [
       "<div>\n",
       "<style scoped>\n",
       "    .dataframe tbody tr th:only-of-type {\n",
       "        vertical-align: middle;\n",
       "    }\n",
       "\n",
       "    .dataframe tbody tr th {\n",
       "        vertical-align: top;\n",
       "    }\n",
       "\n",
       "    .dataframe thead th {\n",
       "        text-align: right;\n",
       "    }\n",
       "</style>\n",
       "<table border=\"1\" class=\"dataframe\">\n",
       "  <thead>\n",
       "    <tr style=\"text-align: right;\">\n",
       "      <th></th>\n",
       "      <th>X</th>\n",
       "      <th>Y</th>\n",
       "      <th>Z</th>\n",
       "      <th>CRnumber</th>\n",
       "    </tr>\n",
       "  </thead>\n",
       "  <tbody>\n",
       "    <tr>\n",
       "      <th>0</th>\n",
       "      <td>64</td>\n",
       "      <td>64</td>\n",
       "      <td>64</td>\n",
       "      <td>260194</td>\n",
       "    </tr>\n",
       "  </tbody>\n",
       "</table>\n",
       "</div>"
      ],
      "text/plain": [
       "    X   Y   Z CRnumber\n",
       "0  64  64  64   260194"
      ]
     },
     "execution_count": 5,
     "metadata": {},
     "output_type": "execute_result"
    }
   ],
   "source": [
    "DynamicCrop.DynamicCrop(Path2ImgMsk='D:/ImageData/Esophagus_NIFTI_260194',\n",
    "                        outpath='D:/imagedata/Eso_Numpy_NoZeroCent_211',crop_fact=64,zero_centering=False)"
   ]
  },
  {
   "cell_type": "markdown",
   "id": "subjective-pasta",
   "metadata": {},
   "source": [
    "# Check Problem patient"
   ]
  },
  {
   "cell_type": "code",
   "execution_count": 3,
   "id": "blessed-passing",
   "metadata": {},
   "outputs": [],
   "source": [
    "DICOMpath = '../imagedata/Esophagus_DICOM_211Pt/260194/'\n",
    "RTstrPath = '../imagedata/Esophagus_DICOM_211Pt/260194/RS.260194.dcm'"
   ]
  },
  {
   "cell_type": "code",
   "execution_count": 4,
   "id": "devoted-world",
   "metadata": {},
   "outputs": [
    {
     "name": "stdout",
     "output_type": "stream",
     "text": [
      "Skipping unnamed contour, unsupported type: POINT\n",
      "Skipping unnamed contour, unsupported type: POINT\n",
      "Skipping unnamed contour, unsupported type: POINT\n"
     ]
    },
    {
     "ename": "ValueError",
     "evalue": "zero-size array to reduction operation minimum which has no identity",
     "output_type": "error",
     "traceback": [
      "\u001b[0;31m---------------------------------------------------------------------------\u001b[0m",
      "\u001b[0;31mValueError\u001b[0m                                Traceback (most recent call last)",
      "\u001b[0;32m<ipython-input-4-1c6b56c34f40>\u001b[0m in \u001b[0;36m<module>\u001b[0;34m\u001b[0m\n\u001b[0;32m----> 1\u001b[0;31m \u001b[0mimg\u001b[0m \u001b[0;34m=\u001b[0m \u001b[0mpreprocessDICOM\u001b[0m\u001b[0;34m.\u001b[0m\u001b[0mpreprocess\u001b[0m\u001b[0;34m(\u001b[0m\u001b[0mDICOMpath\u001b[0m\u001b[0;34m,\u001b[0m\u001b[0mRTstrPath\u001b[0m\u001b[0;34m,\u001b[0m\u001b[0mzero\u001b[0m\u001b[0;34m=\u001b[0m\u001b[0;32mFalse\u001b[0m\u001b[0;34m)\u001b[0m\u001b[0;34m\u001b[0m\u001b[0;34m\u001b[0m\u001b[0m\n\u001b[0m",
      "\u001b[0;32m~/project/QARCutilities/utilities/preprocessDICOM.py\u001b[0m in \u001b[0;36mpreprocess\u001b[0;34m(dicom_file, rtstruct_file, mask_background_value, mask_foreground_value, zero, minbound, maxbound, resample, fill_value, crop_fact, crop_length)\u001b[0m\n\u001b[1;32m     73\u001b[0m \u001b[0;34m\u001b[0m\u001b[0m\n\u001b[1;32m     74\u001b[0m     \u001b[0mresult\u001b[0m \u001b[0;34m=\u001b[0m \u001b[0mnp\u001b[0m\u001b[0;34m.\u001b[0m\u001b[0mwhere\u001b[0m\u001b[0;34m(\u001b[0m\u001b[0mmsk_array_resampled\u001b[0m \u001b[0;34m==\u001b[0m \u001b[0;36m255\u001b[0m\u001b[0;34m)\u001b[0m \u001b[0;31m# Get the index of elements with value 255\u001b[0m\u001b[0;34m\u001b[0m\u001b[0;34m\u001b[0m\u001b[0m\n\u001b[0;32m---> 75\u001b[0;31m     \u001b[0mz_min\u001b[0m\u001b[0;34m,\u001b[0m\u001b[0mz_max\u001b[0m \u001b[0;34m=\u001b[0m \u001b[0mresult\u001b[0m\u001b[0;34m[\u001b[0m\u001b[0;36m0\u001b[0m\u001b[0;34m]\u001b[0m\u001b[0;34m.\u001b[0m\u001b[0mmin\u001b[0m\u001b[0;34m(\u001b[0m\u001b[0;34m)\u001b[0m\u001b[0;34m,\u001b[0m\u001b[0mresult\u001b[0m\u001b[0;34m[\u001b[0m\u001b[0;36m0\u001b[0m\u001b[0;34m]\u001b[0m\u001b[0;34m.\u001b[0m\u001b[0mmax\u001b[0m\u001b[0;34m(\u001b[0m\u001b[0;34m)\u001b[0m\u001b[0;34m\u001b[0m\u001b[0;34m\u001b[0m\u001b[0m\n\u001b[0m\u001b[1;32m     76\u001b[0m     \u001b[0mz_mid\u001b[0m \u001b[0;34m=\u001b[0m \u001b[0;34m(\u001b[0m\u001b[0mz_max\u001b[0m\u001b[0;34m-\u001b[0m\u001b[0mz_min\u001b[0m\u001b[0;34m)\u001b[0m\u001b[0;34m//\u001b[0m\u001b[0;36m2\u001b[0m\u001b[0;34m\u001b[0m\u001b[0;34m\u001b[0m\u001b[0m\n\u001b[1;32m     77\u001b[0m     \u001b[0mz_midvalue\u001b[0m \u001b[0;34m=\u001b[0m \u001b[0mz_min\u001b[0m \u001b[0;34m+\u001b[0m \u001b[0mz_mid\u001b[0m  \u001b[0;31m# this is the position of the middle most slice along z axis\u001b[0m\u001b[0;34m\u001b[0m\u001b[0;34m\u001b[0m\u001b[0m\n",
      "\u001b[0;32m~/project/image_processing/venv38/lib/python3.8/site-packages/numpy/core/_methods.py\u001b[0m in \u001b[0;36m_amin\u001b[0;34m(a, axis, out, keepdims, initial, where)\u001b[0m\n\u001b[1;32m     41\u001b[0m def _amin(a, axis=None, out=None, keepdims=False,\n\u001b[1;32m     42\u001b[0m           initial=_NoValue, where=True):\n\u001b[0;32m---> 43\u001b[0;31m     \u001b[0;32mreturn\u001b[0m \u001b[0mumr_minimum\u001b[0m\u001b[0;34m(\u001b[0m\u001b[0ma\u001b[0m\u001b[0;34m,\u001b[0m \u001b[0maxis\u001b[0m\u001b[0;34m,\u001b[0m \u001b[0;32mNone\u001b[0m\u001b[0;34m,\u001b[0m \u001b[0mout\u001b[0m\u001b[0;34m,\u001b[0m \u001b[0mkeepdims\u001b[0m\u001b[0;34m,\u001b[0m \u001b[0minitial\u001b[0m\u001b[0;34m,\u001b[0m \u001b[0mwhere\u001b[0m\u001b[0;34m)\u001b[0m\u001b[0;34m\u001b[0m\u001b[0;34m\u001b[0m\u001b[0m\n\u001b[0m\u001b[1;32m     44\u001b[0m \u001b[0;34m\u001b[0m\u001b[0m\n\u001b[1;32m     45\u001b[0m def _sum(a, axis=None, dtype=None, out=None, keepdims=False,\n",
      "\u001b[0;31mValueError\u001b[0m: zero-size array to reduction operation minimum which has no identity"
     ]
    }
   ],
   "source": [
    "img = preprocessDICOM.preprocess(DICOMpath,RTstrPath,zero=False)"
   ]
  },
  {
   "cell_type": "code",
   "execution_count": 5,
   "id": "hispanic-board",
   "metadata": {},
   "outputs": [],
   "source": [
    "from dcmrtstruct2nii.adapters.convert.rtstructcontour2mask import DcmPatientCoords2Mask\n",
    "from dcmrtstruct2nii.adapters.convert.filenameconverter import FilenameConverter\n",
    "from dcmrtstruct2nii.adapters.input.contours.rtstructinputadapter import RtStructInputAdapter\n",
    "from dcmrtstruct2nii.adapters.input.image.dcminputadapter import DcmInputAdapter\n",
    "import numpy as np\n",
    "import SimpleITK as sitk\n",
    "import scipy.ndimage"
   ]
  },
  {
   "cell_type": "code",
   "execution_count": 7,
   "id": "quality-blues",
   "metadata": {},
   "outputs": [],
   "source": [
    "rtreader = RtStructInputAdapter()\n",
    "dcm_patient_coords_to_mask = DcmPatientCoords2Mask()\n",
    "dicom_image = DcmInputAdapter().ingest(DICOMpath)\n",
    "rtstructs = rtreader.ingest(RTstrPath)\n",
    "\n",
    "rtstruct_contours = rtstructs[0]['sequence']\n",
    "dcm_patient_coords_to_mask = DcmPatientCoords2Mask()"
   ]
  },
  {
   "cell_type": "code",
   "execution_count": 42,
   "id": "elementary-fossil",
   "metadata": {},
   "outputs": [
    {
     "name": "stdout",
     "output_type": "stream",
     "text": [
      "Structure(gtv_1) not found\n"
     ]
    }
   ],
   "source": [
    "for i in rtstructs:\n",
    "    if i['name'] == 'gtv_1':\n",
    "        rtstruct_contours = i['sequence']\n",
    "    else:\n",
    "        print('Structure(gtv_1) not found')\n",
    "    "
   ]
  },
  {
   "cell_type": "code",
   "execution_count": null,
   "id": "charitable-concrete",
   "metadata": {},
   "outputs": [],
   "source": []
  }
 ],
 "metadata": {
  "kernelspec": {
   "display_name": "Python 3",
   "language": "python",
   "name": "python3"
  },
  "language_info": {
   "codemirror_mode": {
    "name": "ipython",
    "version": 3
   },
   "file_extension": ".py",
   "mimetype": "text/x-python",
   "name": "python",
   "nbconvert_exporter": "python",
   "pygments_lexer": "ipython3",
   "version": "3.8.6"
  }
 },
 "nbformat": 4,
 "nbformat_minor": 5
}
