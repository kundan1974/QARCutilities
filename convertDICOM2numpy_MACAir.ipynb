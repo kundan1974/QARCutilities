{
 "cells": [
  {
   "cell_type": "code",
   "execution_count": 2,
   "id": "infrared-return",
   "metadata": {},
   "outputs": [],
   "source": [
    "import os\n",
    "from utilities import preprocessDICOM\n",
    "import numpy as np"
   ]
  },
  {
   "cell_type": "code",
   "execution_count": null,
   "id": "present-silence",
   "metadata": {},
   "outputs": [],
   "source": [
    "path2dcm = '../imagedata/Esophagus_DICOM_211Pt/'\n",
    "outputdir = './'"
   ]
  },
  {
   "cell_type": "code",
   "execution_count": null,
   "id": "corrected-party",
   "metadata": {},
   "outputs": [],
   "source": [
    "pathlist = []\n",
    "RTstrfiles=[]\n",
    "for x,_,_ in os.walk(path2dcm):\n",
    "    pathlist.append(x)\n",
    "pathlist.pop(0)\n",
    "len(pathlist)"
   ]
  },
  {
   "cell_type": "code",
   "execution_count": null,
   "id": "alpine-argument",
   "metadata": {},
   "outputs": [],
   "source": [
    "DoneFiles = []\n",
    "NotDoneFiles = []\n",
    "for k in range(len(pathlist[65])):\n",
    "    path2Rtstr = []\n",
    "    for i in os.listdir(pathlist[k]):\n",
    "        if 'RS' in i:\n",
    "            path2Rtstr.append(i)\n",
    "    RTstrPath = os.path.join(pathlist[k],path2Rtstr[0])\n",
    "    DICOMpath = pathlist[k]\n",
    "    fname = outputdir + RTstrPath[-10:][:6] + '.npy'\n",
    "    try:\n",
    "        img = preprocessDICOM.preprocess(DICOMpath,RTstrPath,zero=False,norm=False)\n",
    "    except:\n",
    "        print(f'Could not Convert -- {fname}')\n",
    "        NotDoneFiles.append(fname)\n",
    "    np.save(fname,img)\n",
    "    print(f'{fname} Cropped Successfully')\n",
    "    DoneFiles.append(fname)"
   ]
  },
  {
   "cell_type": "code",
   "execution_count": 3,
   "id": "confused-luxury",
   "metadata": {},
   "outputs": [],
   "source": [
    "img = np.load('./198333.npy')"
   ]
  },
  {
   "cell_type": "code",
   "execution_count": 5,
   "id": "artificial-journalism",
   "metadata": {},
   "outputs": [
    {
     "data": {
      "text/plain": [
       "519.0"
      ]
     },
     "execution_count": 5,
     "metadata": {},
     "output_type": "execute_result"
    }
   ],
   "source": [
    "img.max()"
   ]
  },
  {
   "cell_type": "code",
   "execution_count": null,
   "id": "central-circle",
   "metadata": {},
   "outputs": [],
   "source": []
  },
  {
   "cell_type": "markdown",
   "id": "proper-tyler",
   "metadata": {},
   "source": [
    "# Check Problem patient"
   ]
  },
  {
   "cell_type": "code",
   "execution_count": null,
   "id": "superior-stupid",
   "metadata": {},
   "outputs": [],
   "source": [
    "IDs = []\n",
    "for k in range(len(pathlist)):\n",
    "    for i in os.listdir(pathlist[k]):\n",
    "        if 'RS' in i:\n",
    "            IDs.append(int(i[3:9]))"
   ]
  },
  {
   "cell_type": "code",
   "execution_count": null,
   "id": "deadly-default",
   "metadata": {},
   "outputs": [],
   "source": [
    "IDs.sort()"
   ]
  },
  {
   "cell_type": "code",
   "execution_count": null,
   "id": "enabling-penetration",
   "metadata": {},
   "outputs": [],
   "source": []
  },
  {
   "cell_type": "code",
   "execution_count": null,
   "id": "dramatic-client",
   "metadata": {},
   "outputs": [],
   "source": []
  },
  {
   "cell_type": "code",
   "execution_count": null,
   "id": "primary-finnish",
   "metadata": {},
   "outputs": [],
   "source": [
    "import os\n",
    "#from utilities import preprocessDICOM\n",
    "from utilities import utilities\n",
    "import numpy as np"
   ]
  },
  {
   "cell_type": "code",
   "execution_count": null,
   "id": "specific-essex",
   "metadata": {},
   "outputs": [],
   "source": [
    "outputdir = '/Users/chufalsmacbookpro/Google Drive/finaldata/Eso_NoZeroCentered_DifferentSizes_npyImages/Eso_Numpy_NoZeroCent96x96x96_211/'"
   ]
  },
  {
   "cell_type": "code",
   "execution_count": null,
   "id": "unique-rating",
   "metadata": {},
   "outputs": [],
   "source": [
    "#ID = IDs[0]\n",
    "utilities.check_numpy_images(270102,img_path=outputdir,rotate=False)"
   ]
  },
  {
   "cell_type": "markdown",
   "id": "friendly-turtle",
   "metadata": {},
   "source": [
    "# Issues with Scans\n",
    "\n",
    "- Oral Contrast - 129143, 153203, 257025, 213738, 198750, 132300\n",
    "- Oral Contrast - 146062, 150224, 231203, 213936, 199083, 190037, 184249,\n",
    "- Problem Scan  - 205047"
   ]
  },
  {
   "cell_type": "code",
   "execution_count": null,
   "id": "occasional-right",
   "metadata": {},
   "outputs": [],
   "source": [
    "imgdatamax = {}\n",
    "imgdatamin = {}\n",
    "for i in os.listdir(outputdir):\n",
    "    img_tmp = np.load(os.path.join(outputdir,i))\n",
    "    imgdatamax[i] = img_tmp.max()\n",
    "    imgdatamin[i] = img_tmp.min()"
   ]
  },
  {
   "cell_type": "code",
   "execution_count": null,
   "id": "faced-colon",
   "metadata": {},
   "outputs": [],
   "source": [
    "for key,value in imgdatamax.items():\n",
    "    if value < 1:\n",
    "        print(key[:-4], value)"
   ]
  },
  {
   "cell_type": "code",
   "execution_count": null,
   "id": "scheduled-solid",
   "metadata": {},
   "outputs": [],
   "source": [
    "for key,value in imgdatamin.items():\n",
    "    if value > 0:\n",
    "        print(key[:-4], value)"
   ]
  },
  {
   "cell_type": "markdown",
   "id": "future-dodge",
   "metadata": {},
   "source": [
    "### Directory - Eso_Numpy_NoZeroCent64x64x64_211\n",
    "\n",
    "#### Files:Max\n",
    "\n",
    "- 270102: 0.842\n",
    "- 205047: 0.985\n",
    "- 174978: 0.992\n",
    "- 173972: 0.994\n",
    "- 125005: 0.791\n",
    "\n",
    "#### Files:Min\n",
    "\n",
    "- 270102: 0.317\n",
    "- 185521: 0.107\n",
    "- 139242: 0.118\n",
    "- 273913: 0.097\n",
    "- 167676: 0.137\n",
    "- 207311: 0.145\n",
    "- 184249: 0.090\n",
    "- 157355: 0.136\n",
    "- 174978: 0.11\n",
    "- 233445: 0.095\n",
    "- 209597: 0.093\n"
   ]
  }
 ],
 "metadata": {
  "kernelspec": {
   "display_name": "Python 3",
   "language": "python",
   "name": "python3"
  },
  "language_info": {
   "codemirror_mode": {
    "name": "ipython",
    "version": 3
   },
   "file_extension": ".py",
   "mimetype": "text/x-python",
   "name": "python",
   "nbconvert_exporter": "python",
   "pygments_lexer": "ipython3",
   "version": "3.8.6"
  }
 },
 "nbformat": 4,
 "nbformat_minor": 5
}
