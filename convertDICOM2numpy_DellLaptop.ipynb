{
 "cells": [
  {
   "cell_type": "code",
   "execution_count": 1,
   "id": "infrared-return",
   "metadata": {},
   "outputs": [],
   "source": [
    "import os\n",
    "from utilities import preprocessDICOM\n",
    "import numpy as np"
   ]
  },
  {
   "cell_type": "code",
   "execution_count": 5,
   "id": "present-silence",
   "metadata": {},
   "outputs": [],
   "source": [
    "path2dcm = 'D:\\\\imagedata\\\\Esophagus_DICOM_211Pt\\\\'\n",
    "outputdir = 'D:\\\\imagedata\\\\Eso_NoZeroCentered_DifferentSizes_npyImages\\\\Eso_Numpy_NoZeroCent_NoNorm64x64x64\\\\'"
   ]
  },
  {
   "cell_type": "code",
   "execution_count": 6,
   "id": "corrected-party",
   "metadata": {},
   "outputs": [
    {
     "data": {
      "text/plain": [
       "211"
      ]
     },
     "execution_count": 6,
     "metadata": {},
     "output_type": "execute_result"
    }
   ],
   "source": [
    "pathlist = []\n",
    "RTstrfiles=[]\n",
    "for x,_,_ in os.walk(path2dcm):\n",
    "    pathlist.append(x)\n",
    "pathlist.pop(0)\n",
    "len(pathlist)"
   ]
  },
  {
   "cell_type": "code",
   "execution_count": 7,
   "id": "geographic-accountability",
   "metadata": {},
   "outputs": [
    {
     "name": "stderr",
     "output_type": "stream",
     "text": [
      "D:\\QARCutils\\QARCutilities\\utilities\\preprocessDICOM.py:103: RuntimeWarning: Mean of empty slice.\n",
      "  coords.append([np.round(x_val_arr.mean()),np.round(y_val_arr.mean()),np.round(z_val_arr.mean())])\n",
      "d:\\user_chufa_qarc_project_envs\\eso_dl_env\\lib\\site-packages\\numpy\\core\\_methods.py:170: RuntimeWarning: invalid value encountered in double_scalars\n",
      "  ret = ret.dtype.type(ret / rcount)\n"
     ]
    },
    {
     "name": "stdout",
     "output_type": "stream",
     "text": [
      "D:\\imagedata\\Eso_NoZeroCentered_DifferentSizes_npyImages\\Eso_Numpy_NoZeroCent_NoNorm64x64x64\\122772.npy Cropped Successfully\n",
      "D:\\imagedata\\Eso_NoZeroCentered_DifferentSizes_npyImages\\Eso_Numpy_NoZeroCent_NoNorm64x64x64\\125005.npy Cropped Successfully\n",
      "D:\\imagedata\\Eso_NoZeroCentered_DifferentSizes_npyImages\\Eso_Numpy_NoZeroCent_NoNorm64x64x64\\126627.npy Cropped Successfully\n",
      "D:\\imagedata\\Eso_NoZeroCentered_DifferentSizes_npyImages\\Eso_Numpy_NoZeroCent_NoNorm64x64x64\\127279.npy Cropped Successfully\n",
      "D:\\imagedata\\Eso_NoZeroCentered_DifferentSizes_npyImages\\Eso_Numpy_NoZeroCent_NoNorm64x64x64\\127856.npy Cropped Successfully\n",
      "D:\\imagedata\\Eso_NoZeroCentered_DifferentSizes_npyImages\\Eso_Numpy_NoZeroCent_NoNorm64x64x64\\128048.npy Cropped Successfully\n",
      "D:\\imagedata\\Eso_NoZeroCentered_DifferentSizes_npyImages\\Eso_Numpy_NoZeroCent_NoNorm64x64x64\\128813.npy Cropped Successfully\n",
      "D:\\imagedata\\Eso_NoZeroCentered_DifferentSizes_npyImages\\Eso_Numpy_NoZeroCent_NoNorm64x64x64\\129143.npy Cropped Successfully\n",
      "D:\\imagedata\\Eso_NoZeroCentered_DifferentSizes_npyImages\\Eso_Numpy_NoZeroCent_NoNorm64x64x64\\130498.npy Cropped Successfully\n",
      "D:\\imagedata\\Eso_NoZeroCentered_DifferentSizes_npyImages\\Eso_Numpy_NoZeroCent_NoNorm64x64x64\\131819.npy Cropped Successfully\n",
      "D:\\imagedata\\Eso_NoZeroCentered_DifferentSizes_npyImages\\Eso_Numpy_NoZeroCent_NoNorm64x64x64\\132300.npy Cropped Successfully\n",
      "D:\\imagedata\\Eso_NoZeroCentered_DifferentSizes_npyImages\\Eso_Numpy_NoZeroCent_NoNorm64x64x64\\132537.npy Cropped Successfully\n",
      "D:\\imagedata\\Eso_NoZeroCentered_DifferentSizes_npyImages\\Eso_Numpy_NoZeroCent_NoNorm64x64x64\\132600.npy Cropped Successfully\n",
      "D:\\imagedata\\Eso_NoZeroCentered_DifferentSizes_npyImages\\Eso_Numpy_NoZeroCent_NoNorm64x64x64\\133673.npy Cropped Successfully\n",
      "D:\\imagedata\\Eso_NoZeroCentered_DifferentSizes_npyImages\\Eso_Numpy_NoZeroCent_NoNorm64x64x64\\135226.npy Cropped Successfully\n",
      "D:\\imagedata\\Eso_NoZeroCentered_DifferentSizes_npyImages\\Eso_Numpy_NoZeroCent_NoNorm64x64x64\\136405.npy Cropped Successfully\n",
      "D:\\imagedata\\Eso_NoZeroCentered_DifferentSizes_npyImages\\Eso_Numpy_NoZeroCent_NoNorm64x64x64\\137283.npy Cropped Successfully\n",
      "D:\\imagedata\\Eso_NoZeroCentered_DifferentSizes_npyImages\\Eso_Numpy_NoZeroCent_NoNorm64x64x64\\138043.npy Cropped Successfully\n",
      "D:\\imagedata\\Eso_NoZeroCentered_DifferentSizes_npyImages\\Eso_Numpy_NoZeroCent_NoNorm64x64x64\\138086.npy Cropped Successfully\n",
      "D:\\imagedata\\Eso_NoZeroCentered_DifferentSizes_npyImages\\Eso_Numpy_NoZeroCent_NoNorm64x64x64\\138605.npy Cropped Successfully\n",
      "D:\\imagedata\\Eso_NoZeroCentered_DifferentSizes_npyImages\\Eso_Numpy_NoZeroCent_NoNorm64x64x64\\139047.npy Cropped Successfully\n",
      "D:\\imagedata\\Eso_NoZeroCentered_DifferentSizes_npyImages\\Eso_Numpy_NoZeroCent_NoNorm64x64x64\\139242.npy Cropped Successfully\n",
      "D:\\imagedata\\Eso_NoZeroCentered_DifferentSizes_npyImages\\Eso_Numpy_NoZeroCent_NoNorm64x64x64\\140490.npy Cropped Successfully\n",
      "D:\\imagedata\\Eso_NoZeroCentered_DifferentSizes_npyImages\\Eso_Numpy_NoZeroCent_NoNorm64x64x64\\141321.npy Cropped Successfully\n",
      "D:\\imagedata\\Eso_NoZeroCentered_DifferentSizes_npyImages\\Eso_Numpy_NoZeroCent_NoNorm64x64x64\\141368.npy Cropped Successfully\n",
      "D:\\imagedata\\Eso_NoZeroCentered_DifferentSizes_npyImages\\Eso_Numpy_NoZeroCent_NoNorm64x64x64\\145512.npy Cropped Successfully\n",
      "D:\\imagedata\\Eso_NoZeroCentered_DifferentSizes_npyImages\\Eso_Numpy_NoZeroCent_NoNorm64x64x64\\146062.npy Cropped Successfully\n",
      "D:\\imagedata\\Eso_NoZeroCentered_DifferentSizes_npyImages\\Eso_Numpy_NoZeroCent_NoNorm64x64x64\\147547.npy Cropped Successfully\n",
      "D:\\imagedata\\Eso_NoZeroCentered_DifferentSizes_npyImages\\Eso_Numpy_NoZeroCent_NoNorm64x64x64\\147778.npy Cropped Successfully\n",
      "D:\\imagedata\\Eso_NoZeroCentered_DifferentSizes_npyImages\\Eso_Numpy_NoZeroCent_NoNorm64x64x64\\149026.npy Cropped Successfully\n",
      "D:\\imagedata\\Eso_NoZeroCentered_DifferentSizes_npyImages\\Eso_Numpy_NoZeroCent_NoNorm64x64x64\\150224.npy Cropped Successfully\n",
      "D:\\imagedata\\Eso_NoZeroCentered_DifferentSizes_npyImages\\Eso_Numpy_NoZeroCent_NoNorm64x64x64\\150427.npy Cropped Successfully\n",
      "D:\\imagedata\\Eso_NoZeroCentered_DifferentSizes_npyImages\\Eso_Numpy_NoZeroCent_NoNorm64x64x64\\151227.npy Cropped Successfully\n",
      "D:\\imagedata\\Eso_NoZeroCentered_DifferentSizes_npyImages\\Eso_Numpy_NoZeroCent_NoNorm64x64x64\\152382.npy Cropped Successfully\n",
      "D:\\imagedata\\Eso_NoZeroCentered_DifferentSizes_npyImages\\Eso_Numpy_NoZeroCent_NoNorm64x64x64\\152904.npy Cropped Successfully\n",
      "D:\\imagedata\\Eso_NoZeroCentered_DifferentSizes_npyImages\\Eso_Numpy_NoZeroCent_NoNorm64x64x64\\153203.npy Cropped Successfully\n",
      "D:\\imagedata\\Eso_NoZeroCentered_DifferentSizes_npyImages\\Eso_Numpy_NoZeroCent_NoNorm64x64x64\\155718.npy Cropped Successfully\n",
      "D:\\imagedata\\Eso_NoZeroCentered_DifferentSizes_npyImages\\Eso_Numpy_NoZeroCent_NoNorm64x64x64\\156998.npy Cropped Successfully\n",
      "D:\\imagedata\\Eso_NoZeroCentered_DifferentSizes_npyImages\\Eso_Numpy_NoZeroCent_NoNorm64x64x64\\157355.npy Cropped Successfully\n",
      "D:\\imagedata\\Eso_NoZeroCentered_DifferentSizes_npyImages\\Eso_Numpy_NoZeroCent_NoNorm64x64x64\\158510.npy Cropped Successfully\n",
      "D:\\imagedata\\Eso_NoZeroCentered_DifferentSizes_npyImages\\Eso_Numpy_NoZeroCent_NoNorm64x64x64\\158751.npy Cropped Successfully\n",
      "D:\\imagedata\\Eso_NoZeroCentered_DifferentSizes_npyImages\\Eso_Numpy_NoZeroCent_NoNorm64x64x64\\163084.npy Cropped Successfully\n",
      "D:\\imagedata\\Eso_NoZeroCentered_DifferentSizes_npyImages\\Eso_Numpy_NoZeroCent_NoNorm64x64x64\\163424.npy Cropped Successfully\n",
      "D:\\imagedata\\Eso_NoZeroCentered_DifferentSizes_npyImages\\Eso_Numpy_NoZeroCent_NoNorm64x64x64\\163587.npy Cropped Successfully\n",
      "D:\\imagedata\\Eso_NoZeroCentered_DifferentSizes_npyImages\\Eso_Numpy_NoZeroCent_NoNorm64x64x64\\164483.npy Cropped Successfully\n",
      "D:\\imagedata\\Eso_NoZeroCentered_DifferentSizes_npyImages\\Eso_Numpy_NoZeroCent_NoNorm64x64x64\\165437.npy Cropped Successfully\n",
      "D:\\imagedata\\Eso_NoZeroCentered_DifferentSizes_npyImages\\Eso_Numpy_NoZeroCent_NoNorm64x64x64\\165825.npy Cropped Successfully\n",
      "D:\\imagedata\\Eso_NoZeroCentered_DifferentSizes_npyImages\\Eso_Numpy_NoZeroCent_NoNorm64x64x64\\165945.npy Cropped Successfully\n",
      "D:\\imagedata\\Eso_NoZeroCentered_DifferentSizes_npyImages\\Eso_Numpy_NoZeroCent_NoNorm64x64x64\\166283.npy Cropped Successfully\n",
      "D:\\imagedata\\Eso_NoZeroCentered_DifferentSizes_npyImages\\Eso_Numpy_NoZeroCent_NoNorm64x64x64\\166845.npy Cropped Successfully\n",
      "D:\\imagedata\\Eso_NoZeroCentered_DifferentSizes_npyImages\\Eso_Numpy_NoZeroCent_NoNorm64x64x64\\166994.npy Cropped Successfully\n",
      "D:\\imagedata\\Eso_NoZeroCentered_DifferentSizes_npyImages\\Eso_Numpy_NoZeroCent_NoNorm64x64x64\\167676.npy Cropped Successfully\n",
      "D:\\imagedata\\Eso_NoZeroCentered_DifferentSizes_npyImages\\Eso_Numpy_NoZeroCent_NoNorm64x64x64\\167678.npy Cropped Successfully\n",
      "D:\\imagedata\\Eso_NoZeroCentered_DifferentSizes_npyImages\\Eso_Numpy_NoZeroCent_NoNorm64x64x64\\168612.npy Cropped Successfully\n",
      "D:\\imagedata\\Eso_NoZeroCentered_DifferentSizes_npyImages\\Eso_Numpy_NoZeroCent_NoNorm64x64x64\\169199.npy Cropped Successfully\n",
      "D:\\imagedata\\Eso_NoZeroCentered_DifferentSizes_npyImages\\Eso_Numpy_NoZeroCent_NoNorm64x64x64\\169596.npy Cropped Successfully\n",
      "D:\\imagedata\\Eso_NoZeroCentered_DifferentSizes_npyImages\\Eso_Numpy_NoZeroCent_NoNorm64x64x64\\169646.npy Cropped Successfully\n",
      "D:\\imagedata\\Eso_NoZeroCentered_DifferentSizes_npyImages\\Eso_Numpy_NoZeroCent_NoNorm64x64x64\\169981.npy Cropped Successfully\n",
      "D:\\imagedata\\Eso_NoZeroCentered_DifferentSizes_npyImages\\Eso_Numpy_NoZeroCent_NoNorm64x64x64\\170303.npy Cropped Successfully\n",
      "D:\\imagedata\\Eso_NoZeroCentered_DifferentSizes_npyImages\\Eso_Numpy_NoZeroCent_NoNorm64x64x64\\170360.npy Cropped Successfully\n",
      "D:\\imagedata\\Eso_NoZeroCentered_DifferentSizes_npyImages\\Eso_Numpy_NoZeroCent_NoNorm64x64x64\\171705.npy Cropped Successfully\n",
      "D:\\imagedata\\Eso_NoZeroCentered_DifferentSizes_npyImages\\Eso_Numpy_NoZeroCent_NoNorm64x64x64\\171744.npy Cropped Successfully\n",
      "D:\\imagedata\\Eso_NoZeroCentered_DifferentSizes_npyImages\\Eso_Numpy_NoZeroCent_NoNorm64x64x64\\171783.npy Cropped Successfully\n",
      "D:\\imagedata\\Eso_NoZeroCentered_DifferentSizes_npyImages\\Eso_Numpy_NoZeroCent_NoNorm64x64x64\\172015.npy Cropped Successfully\n",
      "D:\\imagedata\\Eso_NoZeroCentered_DifferentSizes_npyImages\\Eso_Numpy_NoZeroCent_NoNorm64x64x64\\172242.npy Cropped Successfully\n",
      "D:\\imagedata\\Eso_NoZeroCentered_DifferentSizes_npyImages\\Eso_Numpy_NoZeroCent_NoNorm64x64x64\\172495.npy Cropped Successfully\n"
     ]
    },
    {
     "name": "stdout",
     "output_type": "stream",
     "text": [
      "D:\\imagedata\\Eso_NoZeroCentered_DifferentSizes_npyImages\\Eso_Numpy_NoZeroCent_NoNorm64x64x64\\173171.npy Cropped Successfully\n",
      "D:\\imagedata\\Eso_NoZeroCentered_DifferentSizes_npyImages\\Eso_Numpy_NoZeroCent_NoNorm64x64x64\\173972.npy Cropped Successfully\n",
      "D:\\imagedata\\Eso_NoZeroCentered_DifferentSizes_npyImages\\Eso_Numpy_NoZeroCent_NoNorm64x64x64\\174556.npy Cropped Successfully\n",
      "D:\\imagedata\\Eso_NoZeroCentered_DifferentSizes_npyImages\\Eso_Numpy_NoZeroCent_NoNorm64x64x64\\174799.npy Cropped Successfully\n",
      "D:\\imagedata\\Eso_NoZeroCentered_DifferentSizes_npyImages\\Eso_Numpy_NoZeroCent_NoNorm64x64x64\\174978.npy Cropped Successfully\n",
      "D:\\imagedata\\Eso_NoZeroCentered_DifferentSizes_npyImages\\Eso_Numpy_NoZeroCent_NoNorm64x64x64\\174995.npy Cropped Successfully\n",
      "D:\\imagedata\\Eso_NoZeroCentered_DifferentSizes_npyImages\\Eso_Numpy_NoZeroCent_NoNorm64x64x64\\175609.npy Cropped Successfully\n",
      "D:\\imagedata\\Eso_NoZeroCentered_DifferentSizes_npyImages\\Eso_Numpy_NoZeroCent_NoNorm64x64x64\\177422.npy Cropped Successfully\n",
      "D:\\imagedata\\Eso_NoZeroCentered_DifferentSizes_npyImages\\Eso_Numpy_NoZeroCent_NoNorm64x64x64\\177510.npy Cropped Successfully\n",
      "D:\\imagedata\\Eso_NoZeroCentered_DifferentSizes_npyImages\\Eso_Numpy_NoZeroCent_NoNorm64x64x64\\180131.npy Cropped Successfully\n",
      "D:\\imagedata\\Eso_NoZeroCentered_DifferentSizes_npyImages\\Eso_Numpy_NoZeroCent_NoNorm64x64x64\\180385.npy Cropped Successfully\n",
      "D:\\imagedata\\Eso_NoZeroCentered_DifferentSizes_npyImages\\Eso_Numpy_NoZeroCent_NoNorm64x64x64\\182623.npy Cropped Successfully\n",
      "D:\\imagedata\\Eso_NoZeroCentered_DifferentSizes_npyImages\\Eso_Numpy_NoZeroCent_NoNorm64x64x64\\182932.npy Cropped Successfully\n",
      "D:\\imagedata\\Eso_NoZeroCentered_DifferentSizes_npyImages\\Eso_Numpy_NoZeroCent_NoNorm64x64x64\\183371.npy Cropped Successfully\n",
      "D:\\imagedata\\Eso_NoZeroCentered_DifferentSizes_npyImages\\Eso_Numpy_NoZeroCent_NoNorm64x64x64\\183957.npy Cropped Successfully\n",
      "D:\\imagedata\\Eso_NoZeroCentered_DifferentSizes_npyImages\\Eso_Numpy_NoZeroCent_NoNorm64x64x64\\184249.npy Cropped Successfully\n",
      "D:\\imagedata\\Eso_NoZeroCentered_DifferentSizes_npyImages\\Eso_Numpy_NoZeroCent_NoNorm64x64x64\\184262.npy Cropped Successfully\n",
      "D:\\imagedata\\Eso_NoZeroCentered_DifferentSizes_npyImages\\Eso_Numpy_NoZeroCent_NoNorm64x64x64\\184391.npy Cropped Successfully\n",
      "D:\\imagedata\\Eso_NoZeroCentered_DifferentSizes_npyImages\\Eso_Numpy_NoZeroCent_NoNorm64x64x64\\185521.npy Cropped Successfully\n",
      "D:\\imagedata\\Eso_NoZeroCentered_DifferentSizes_npyImages\\Eso_Numpy_NoZeroCent_NoNorm64x64x64\\186373.npy Cropped Successfully\n",
      "D:\\imagedata\\Eso_NoZeroCentered_DifferentSizes_npyImages\\Eso_Numpy_NoZeroCent_NoNorm64x64x64\\186938.npy Cropped Successfully\n",
      "D:\\imagedata\\Eso_NoZeroCentered_DifferentSizes_npyImages\\Eso_Numpy_NoZeroCent_NoNorm64x64x64\\187313.npy Cropped Successfully\n",
      "D:\\imagedata\\Eso_NoZeroCentered_DifferentSizes_npyImages\\Eso_Numpy_NoZeroCent_NoNorm64x64x64\\187366.npy Cropped Successfully\n",
      "D:\\imagedata\\Eso_NoZeroCentered_DifferentSizes_npyImages\\Eso_Numpy_NoZeroCent_NoNorm64x64x64\\187377.npy Cropped Successfully\n",
      "Structure(gtv_1) not found. Found eso_n Structure\n",
      "D:\\imagedata\\Eso_NoZeroCentered_DifferentSizes_npyImages\\Eso_Numpy_NoZeroCent_NoNorm64x64x64\\188261.npy Cropped Successfully\n",
      "D:\\imagedata\\Eso_NoZeroCentered_DifferentSizes_npyImages\\Eso_Numpy_NoZeroCent_NoNorm64x64x64\\188695.npy Cropped Successfully\n",
      "D:\\imagedata\\Eso_NoZeroCentered_DifferentSizes_npyImages\\Eso_Numpy_NoZeroCent_NoNorm64x64x64\\188918.npy Cropped Successfully\n",
      "D:\\imagedata\\Eso_NoZeroCentered_DifferentSizes_npyImages\\Eso_Numpy_NoZeroCent_NoNorm64x64x64\\189117.npy Cropped Successfully\n",
      "D:\\imagedata\\Eso_NoZeroCentered_DifferentSizes_npyImages\\Eso_Numpy_NoZeroCent_NoNorm64x64x64\\190037.npy Cropped Successfully\n",
      "D:\\imagedata\\Eso_NoZeroCentered_DifferentSizes_npyImages\\Eso_Numpy_NoZeroCent_NoNorm64x64x64\\190660.npy Cropped Successfully\n",
      "D:\\imagedata\\Eso_NoZeroCentered_DifferentSizes_npyImages\\Eso_Numpy_NoZeroCent_NoNorm64x64x64\\190728.npy Cropped Successfully\n",
      "D:\\imagedata\\Eso_NoZeroCentered_DifferentSizes_npyImages\\Eso_Numpy_NoZeroCent_NoNorm64x64x64\\191065.npy Cropped Successfully\n",
      "D:\\imagedata\\Eso_NoZeroCentered_DifferentSizes_npyImages\\Eso_Numpy_NoZeroCent_NoNorm64x64x64\\192416.npy Cropped Successfully\n",
      "D:\\imagedata\\Eso_NoZeroCentered_DifferentSizes_npyImages\\Eso_Numpy_NoZeroCent_NoNorm64x64x64\\192518.npy Cropped Successfully\n",
      "D:\\imagedata\\Eso_NoZeroCentered_DifferentSizes_npyImages\\Eso_Numpy_NoZeroCent_NoNorm64x64x64\\194154.npy Cropped Successfully\n",
      "D:\\imagedata\\Eso_NoZeroCentered_DifferentSizes_npyImages\\Eso_Numpy_NoZeroCent_NoNorm64x64x64\\195092.npy Cropped Successfully\n",
      "D:\\imagedata\\Eso_NoZeroCentered_DifferentSizes_npyImages\\Eso_Numpy_NoZeroCent_NoNorm64x64x64\\196708.npy Cropped Successfully\n",
      "D:\\imagedata\\Eso_NoZeroCentered_DifferentSizes_npyImages\\Eso_Numpy_NoZeroCent_NoNorm64x64x64\\197303.npy Cropped Successfully\n",
      "D:\\imagedata\\Eso_NoZeroCentered_DifferentSizes_npyImages\\Eso_Numpy_NoZeroCent_NoNorm64x64x64\\198333.npy Cropped Successfully\n",
      "D:\\imagedata\\Eso_NoZeroCentered_DifferentSizes_npyImages\\Eso_Numpy_NoZeroCent_NoNorm64x64x64\\198587.npy Cropped Successfully\n",
      "D:\\imagedata\\Eso_NoZeroCentered_DifferentSizes_npyImages\\Eso_Numpy_NoZeroCent_NoNorm64x64x64\\198750.npy Cropped Successfully\n",
      "D:\\imagedata\\Eso_NoZeroCentered_DifferentSizes_npyImages\\Eso_Numpy_NoZeroCent_NoNorm64x64x64\\198822.npy Cropped Successfully\n",
      "D:\\imagedata\\Eso_NoZeroCentered_DifferentSizes_npyImages\\Eso_Numpy_NoZeroCent_NoNorm64x64x64\\199083.npy Cropped Successfully\n",
      "D:\\imagedata\\Eso_NoZeroCentered_DifferentSizes_npyImages\\Eso_Numpy_NoZeroCent_NoNorm64x64x64\\199281.npy Cropped Successfully\n",
      "D:\\imagedata\\Eso_NoZeroCentered_DifferentSizes_npyImages\\Eso_Numpy_NoZeroCent_NoNorm64x64x64\\199495.npy Cropped Successfully\n",
      "D:\\imagedata\\Eso_NoZeroCentered_DifferentSizes_npyImages\\Eso_Numpy_NoZeroCent_NoNorm64x64x64\\200582.npy Cropped Successfully\n",
      "D:\\imagedata\\Eso_NoZeroCentered_DifferentSizes_npyImages\\Eso_Numpy_NoZeroCent_NoNorm64x64x64\\201294.npy Cropped Successfully\n",
      "D:\\imagedata\\Eso_NoZeroCentered_DifferentSizes_npyImages\\Eso_Numpy_NoZeroCent_NoNorm64x64x64\\201489.npy Cropped Successfully\n",
      "D:\\imagedata\\Eso_NoZeroCentered_DifferentSizes_npyImages\\Eso_Numpy_NoZeroCent_NoNorm64x64x64\\203264.npy Cropped Successfully\n",
      "D:\\imagedata\\Eso_NoZeroCentered_DifferentSizes_npyImages\\Eso_Numpy_NoZeroCent_NoNorm64x64x64\\203559.npy Cropped Successfully\n",
      "D:\\imagedata\\Eso_NoZeroCentered_DifferentSizes_npyImages\\Eso_Numpy_NoZeroCent_NoNorm64x64x64\\205047.npy Cropped Successfully\n",
      "D:\\imagedata\\Eso_NoZeroCentered_DifferentSizes_npyImages\\Eso_Numpy_NoZeroCent_NoNorm64x64x64\\205962.npy Cropped Successfully\n",
      "D:\\imagedata\\Eso_NoZeroCentered_DifferentSizes_npyImages\\Eso_Numpy_NoZeroCent_NoNorm64x64x64\\206285.npy Cropped Successfully\n",
      "D:\\imagedata\\Eso_NoZeroCentered_DifferentSizes_npyImages\\Eso_Numpy_NoZeroCent_NoNorm64x64x64\\206311.npy Cropped Successfully\n",
      "D:\\imagedata\\Eso_NoZeroCentered_DifferentSizes_npyImages\\Eso_Numpy_NoZeroCent_NoNorm64x64x64\\207311.npy Cropped Successfully\n",
      "D:\\imagedata\\Eso_NoZeroCentered_DifferentSizes_npyImages\\Eso_Numpy_NoZeroCent_NoNorm64x64x64\\207809.npy Cropped Successfully\n",
      "D:\\imagedata\\Eso_NoZeroCentered_DifferentSizes_npyImages\\Eso_Numpy_NoZeroCent_NoNorm64x64x64\\208071.npy Cropped Successfully\n",
      "D:\\imagedata\\Eso_NoZeroCentered_DifferentSizes_npyImages\\Eso_Numpy_NoZeroCent_NoNorm64x64x64\\208406.npy Cropped Successfully\n",
      "D:\\imagedata\\Eso_NoZeroCentered_DifferentSizes_npyImages\\Eso_Numpy_NoZeroCent_NoNorm64x64x64\\209597.npy Cropped Successfully\n",
      "D:\\imagedata\\Eso_NoZeroCentered_DifferentSizes_npyImages\\Eso_Numpy_NoZeroCent_NoNorm64x64x64\\211368.npy Cropped Successfully\n",
      "D:\\imagedata\\Eso_NoZeroCentered_DifferentSizes_npyImages\\Eso_Numpy_NoZeroCent_NoNorm64x64x64\\211733.npy Cropped Successfully\n",
      "D:\\imagedata\\Eso_NoZeroCentered_DifferentSizes_npyImages\\Eso_Numpy_NoZeroCent_NoNorm64x64x64\\212840.npy Cropped Successfully\n",
      "D:\\imagedata\\Eso_NoZeroCentered_DifferentSizes_npyImages\\Eso_Numpy_NoZeroCent_NoNorm64x64x64\\213179.npy Cropped Successfully\n",
      "D:\\imagedata\\Eso_NoZeroCentered_DifferentSizes_npyImages\\Eso_Numpy_NoZeroCent_NoNorm64x64x64\\213738.npy Cropped Successfully\n",
      "D:\\imagedata\\Eso_NoZeroCentered_DifferentSizes_npyImages\\Eso_Numpy_NoZeroCent_NoNorm64x64x64\\213813.npy Cropped Successfully\n",
      "D:\\imagedata\\Eso_NoZeroCentered_DifferentSizes_npyImages\\Eso_Numpy_NoZeroCent_NoNorm64x64x64\\213936.npy Cropped Successfully\n"
     ]
    },
    {
     "name": "stdout",
     "output_type": "stream",
     "text": [
      "D:\\imagedata\\Eso_NoZeroCentered_DifferentSizes_npyImages\\Eso_Numpy_NoZeroCent_NoNorm64x64x64\\214301.npy Cropped Successfully\n",
      "D:\\imagedata\\Eso_NoZeroCentered_DifferentSizes_npyImages\\Eso_Numpy_NoZeroCent_NoNorm64x64x64\\215315.npy Cropped Successfully\n",
      "D:\\imagedata\\Eso_NoZeroCentered_DifferentSizes_npyImages\\Eso_Numpy_NoZeroCent_NoNorm64x64x64\\215563.npy Cropped Successfully\n",
      "D:\\imagedata\\Eso_NoZeroCentered_DifferentSizes_npyImages\\Eso_Numpy_NoZeroCent_NoNorm64x64x64\\215803.npy Cropped Successfully\n",
      "D:\\imagedata\\Eso_NoZeroCentered_DifferentSizes_npyImages\\Eso_Numpy_NoZeroCent_NoNorm64x64x64\\216617.npy Cropped Successfully\n",
      "D:\\imagedata\\Eso_NoZeroCentered_DifferentSizes_npyImages\\Eso_Numpy_NoZeroCent_NoNorm64x64x64\\216678.npy Cropped Successfully\n",
      "D:\\imagedata\\Eso_NoZeroCentered_DifferentSizes_npyImages\\Eso_Numpy_NoZeroCent_NoNorm64x64x64\\218812.npy Cropped Successfully\n",
      "D:\\imagedata\\Eso_NoZeroCentered_DifferentSizes_npyImages\\Eso_Numpy_NoZeroCent_NoNorm64x64x64\\219035.npy Cropped Successfully\n",
      "D:\\imagedata\\Eso_NoZeroCentered_DifferentSizes_npyImages\\Eso_Numpy_NoZeroCent_NoNorm64x64x64\\220373.npy Cropped Successfully\n",
      "D:\\imagedata\\Eso_NoZeroCentered_DifferentSizes_npyImages\\Eso_Numpy_NoZeroCent_NoNorm64x64x64\\220701.npy Cropped Successfully\n",
      "D:\\imagedata\\Eso_NoZeroCentered_DifferentSizes_npyImages\\Eso_Numpy_NoZeroCent_NoNorm64x64x64\\221074.npy Cropped Successfully\n",
      "D:\\imagedata\\Eso_NoZeroCentered_DifferentSizes_npyImages\\Eso_Numpy_NoZeroCent_NoNorm64x64x64\\222761.npy Cropped Successfully\n",
      "D:\\imagedata\\Eso_NoZeroCentered_DifferentSizes_npyImages\\Eso_Numpy_NoZeroCent_NoNorm64x64x64\\222931.npy Cropped Successfully\n",
      "D:\\imagedata\\Eso_NoZeroCentered_DifferentSizes_npyImages\\Eso_Numpy_NoZeroCent_NoNorm64x64x64\\223813.npy Cropped Successfully\n",
      "D:\\imagedata\\Eso_NoZeroCentered_DifferentSizes_npyImages\\Eso_Numpy_NoZeroCent_NoNorm64x64x64\\225155.npy Cropped Successfully\n",
      "D:\\imagedata\\Eso_NoZeroCentered_DifferentSizes_npyImages\\Eso_Numpy_NoZeroCent_NoNorm64x64x64\\226339.npy Cropped Successfully\n",
      "D:\\imagedata\\Eso_NoZeroCentered_DifferentSizes_npyImages\\Eso_Numpy_NoZeroCent_NoNorm64x64x64\\228557.npy Cropped Successfully\n",
      "D:\\imagedata\\Eso_NoZeroCentered_DifferentSizes_npyImages\\Eso_Numpy_NoZeroCent_NoNorm64x64x64\\228623.npy Cropped Successfully\n",
      "D:\\imagedata\\Eso_NoZeroCentered_DifferentSizes_npyImages\\Eso_Numpy_NoZeroCent_NoNorm64x64x64\\229064.npy Cropped Successfully\n",
      "D:\\imagedata\\Eso_NoZeroCentered_DifferentSizes_npyImages\\Eso_Numpy_NoZeroCent_NoNorm64x64x64\\229471.npy Cropped Successfully\n",
      "D:\\imagedata\\Eso_NoZeroCentered_DifferentSizes_npyImages\\Eso_Numpy_NoZeroCent_NoNorm64x64x64\\230683.npy Cropped Successfully\n",
      "D:\\imagedata\\Eso_NoZeroCentered_DifferentSizes_npyImages\\Eso_Numpy_NoZeroCent_NoNorm64x64x64\\231203.npy Cropped Successfully\n",
      "D:\\imagedata\\Eso_NoZeroCentered_DifferentSizes_npyImages\\Eso_Numpy_NoZeroCent_NoNorm64x64x64\\232476.npy Cropped Successfully\n",
      "D:\\imagedata\\Eso_NoZeroCentered_DifferentSizes_npyImages\\Eso_Numpy_NoZeroCent_NoNorm64x64x64\\233445.npy Cropped Successfully\n",
      "D:\\imagedata\\Eso_NoZeroCentered_DifferentSizes_npyImages\\Eso_Numpy_NoZeroCent_NoNorm64x64x64\\239022.npy Cropped Successfully\n",
      "D:\\imagedata\\Eso_NoZeroCentered_DifferentSizes_npyImages\\Eso_Numpy_NoZeroCent_NoNorm64x64x64\\240630.npy Cropped Successfully\n",
      "D:\\imagedata\\Eso_NoZeroCentered_DifferentSizes_npyImages\\Eso_Numpy_NoZeroCent_NoNorm64x64x64\\241607.npy Cropped Successfully\n",
      "D:\\imagedata\\Eso_NoZeroCentered_DifferentSizes_npyImages\\Eso_Numpy_NoZeroCent_NoNorm64x64x64\\242487.npy Cropped Successfully\n",
      "D:\\imagedata\\Eso_NoZeroCentered_DifferentSizes_npyImages\\Eso_Numpy_NoZeroCent_NoNorm64x64x64\\242927.npy Cropped Successfully\n",
      "D:\\imagedata\\Eso_NoZeroCentered_DifferentSizes_npyImages\\Eso_Numpy_NoZeroCent_NoNorm64x64x64\\243795.npy Cropped Successfully\n",
      "D:\\imagedata\\Eso_NoZeroCentered_DifferentSizes_npyImages\\Eso_Numpy_NoZeroCent_NoNorm64x64x64\\246871.npy Cropped Successfully\n",
      "D:\\imagedata\\Eso_NoZeroCentered_DifferentSizes_npyImages\\Eso_Numpy_NoZeroCent_NoNorm64x64x64\\247238.npy Cropped Successfully\n",
      "D:\\imagedata\\Eso_NoZeroCentered_DifferentSizes_npyImages\\Eso_Numpy_NoZeroCent_NoNorm64x64x64\\247718.npy Cropped Successfully\n",
      "D:\\imagedata\\Eso_NoZeroCentered_DifferentSizes_npyImages\\Eso_Numpy_NoZeroCent_NoNorm64x64x64\\248759.npy Cropped Successfully\n",
      "D:\\imagedata\\Eso_NoZeroCentered_DifferentSizes_npyImages\\Eso_Numpy_NoZeroCent_NoNorm64x64x64\\249648.npy Cropped Successfully\n",
      "D:\\imagedata\\Eso_NoZeroCentered_DifferentSizes_npyImages\\Eso_Numpy_NoZeroCent_NoNorm64x64x64\\249740.npy Cropped Successfully\n",
      "D:\\imagedata\\Eso_NoZeroCentered_DifferentSizes_npyImages\\Eso_Numpy_NoZeroCent_NoNorm64x64x64\\249849.npy Cropped Successfully\n",
      "D:\\imagedata\\Eso_NoZeroCentered_DifferentSizes_npyImages\\Eso_Numpy_NoZeroCent_NoNorm64x64x64\\250176.npy Cropped Successfully\n",
      "D:\\imagedata\\Eso_NoZeroCentered_DifferentSizes_npyImages\\Eso_Numpy_NoZeroCent_NoNorm64x64x64\\252864.npy Cropped Successfully\n",
      "D:\\imagedata\\Eso_NoZeroCentered_DifferentSizes_npyImages\\Eso_Numpy_NoZeroCent_NoNorm64x64x64\\252936.npy Cropped Successfully\n",
      "D:\\imagedata\\Eso_NoZeroCentered_DifferentSizes_npyImages\\Eso_Numpy_NoZeroCent_NoNorm64x64x64\\254285.npy Cropped Successfully\n",
      "D:\\imagedata\\Eso_NoZeroCentered_DifferentSizes_npyImages\\Eso_Numpy_NoZeroCent_NoNorm64x64x64\\254572.npy Cropped Successfully\n",
      "D:\\imagedata\\Eso_NoZeroCentered_DifferentSizes_npyImages\\Eso_Numpy_NoZeroCent_NoNorm64x64x64\\256465.npy Cropped Successfully\n",
      "D:\\imagedata\\Eso_NoZeroCentered_DifferentSizes_npyImages\\Eso_Numpy_NoZeroCent_NoNorm64x64x64\\256827.npy Cropped Successfully\n",
      "D:\\imagedata\\Eso_NoZeroCentered_DifferentSizes_npyImages\\Eso_Numpy_NoZeroCent_NoNorm64x64x64\\257008.npy Cropped Successfully\n",
      "D:\\imagedata\\Eso_NoZeroCentered_DifferentSizes_npyImages\\Eso_Numpy_NoZeroCent_NoNorm64x64x64\\257025.npy Cropped Successfully\n",
      "D:\\imagedata\\Eso_NoZeroCentered_DifferentSizes_npyImages\\Eso_Numpy_NoZeroCent_NoNorm64x64x64\\257947.npy Cropped Successfully\n",
      "Structure(gtv_1) not found. Found Match points Structure\n",
      "D:\\imagedata\\Eso_NoZeroCentered_DifferentSizes_npyImages\\Eso_Numpy_NoZeroCent_NoNorm64x64x64\\260194.npy Cropped Successfully\n",
      "D:\\imagedata\\Eso_NoZeroCentered_DifferentSizes_npyImages\\Eso_Numpy_NoZeroCent_NoNorm64x64x64\\261282.npy Cropped Successfully\n",
      "D:\\imagedata\\Eso_NoZeroCentered_DifferentSizes_npyImages\\Eso_Numpy_NoZeroCent_NoNorm64x64x64\\261388.npy Cropped Successfully\n",
      "D:\\imagedata\\Eso_NoZeroCentered_DifferentSizes_npyImages\\Eso_Numpy_NoZeroCent_NoNorm64x64x64\\262588.npy Cropped Successfully\n",
      "D:\\imagedata\\Eso_NoZeroCentered_DifferentSizes_npyImages\\Eso_Numpy_NoZeroCent_NoNorm64x64x64\\262867.npy Cropped Successfully\n",
      "D:\\imagedata\\Eso_NoZeroCentered_DifferentSizes_npyImages\\Eso_Numpy_NoZeroCent_NoNorm64x64x64\\263337.npy Cropped Successfully\n",
      "D:\\imagedata\\Eso_NoZeroCentered_DifferentSizes_npyImages\\Eso_Numpy_NoZeroCent_NoNorm64x64x64\\264325.npy Cropped Successfully\n",
      "D:\\imagedata\\Eso_NoZeroCentered_DifferentSizes_npyImages\\Eso_Numpy_NoZeroCent_NoNorm64x64x64\\264582.npy Cropped Successfully\n",
      "D:\\imagedata\\Eso_NoZeroCentered_DifferentSizes_npyImages\\Eso_Numpy_NoZeroCent_NoNorm64x64x64\\264647.npy Cropped Successfully\n",
      "D:\\imagedata\\Eso_NoZeroCentered_DifferentSizes_npyImages\\Eso_Numpy_NoZeroCent_NoNorm64x64x64\\265174.npy Cropped Successfully\n",
      "D:\\imagedata\\Eso_NoZeroCentered_DifferentSizes_npyImages\\Eso_Numpy_NoZeroCent_NoNorm64x64x64\\265296.npy Cropped Successfully\n",
      "D:\\imagedata\\Eso_NoZeroCentered_DifferentSizes_npyImages\\Eso_Numpy_NoZeroCent_NoNorm64x64x64\\266109.npy Cropped Successfully\n",
      "D:\\imagedata\\Eso_NoZeroCentered_DifferentSizes_npyImages\\Eso_Numpy_NoZeroCent_NoNorm64x64x64\\266335.npy Cropped Successfully\n",
      "D:\\imagedata\\Eso_NoZeroCentered_DifferentSizes_npyImages\\Eso_Numpy_NoZeroCent_NoNorm64x64x64\\267008.npy Cropped Successfully\n",
      "D:\\imagedata\\Eso_NoZeroCentered_DifferentSizes_npyImages\\Eso_Numpy_NoZeroCent_NoNorm64x64x64\\267253.npy Cropped Successfully\n",
      "D:\\imagedata\\Eso_NoZeroCentered_DifferentSizes_npyImages\\Eso_Numpy_NoZeroCent_NoNorm64x64x64\\268740.npy Cropped Successfully\n",
      "D:\\imagedata\\Eso_NoZeroCentered_DifferentSizes_npyImages\\Eso_Numpy_NoZeroCent_NoNorm64x64x64\\269721.npy Cropped Successfully\n",
      "D:\\imagedata\\Eso_NoZeroCentered_DifferentSizes_npyImages\\Eso_Numpy_NoZeroCent_NoNorm64x64x64\\270000.npy Cropped Successfully\n",
      "D:\\imagedata\\Eso_NoZeroCentered_DifferentSizes_npyImages\\Eso_Numpy_NoZeroCent_NoNorm64x64x64\\270102.npy Cropped Successfully\n"
     ]
    },
    {
     "name": "stdout",
     "output_type": "stream",
     "text": [
      "D:\\imagedata\\Eso_NoZeroCentered_DifferentSizes_npyImages\\Eso_Numpy_NoZeroCent_NoNorm64x64x64\\270691.npy Cropped Successfully\n",
      "D:\\imagedata\\Eso_NoZeroCentered_DifferentSizes_npyImages\\Eso_Numpy_NoZeroCent_NoNorm64x64x64\\271152.npy Cropped Successfully\n",
      "D:\\imagedata\\Eso_NoZeroCentered_DifferentSizes_npyImages\\Eso_Numpy_NoZeroCent_NoNorm64x64x64\\271335.npy Cropped Successfully\n",
      "D:\\imagedata\\Eso_NoZeroCentered_DifferentSizes_npyImages\\Eso_Numpy_NoZeroCent_NoNorm64x64x64\\271599.npy Cropped Successfully\n",
      "D:\\imagedata\\Eso_NoZeroCentered_DifferentSizes_npyImages\\Eso_Numpy_NoZeroCent_NoNorm64x64x64\\271767.npy Cropped Successfully\n",
      "D:\\imagedata\\Eso_NoZeroCentered_DifferentSizes_npyImages\\Eso_Numpy_NoZeroCent_NoNorm64x64x64\\272521.npy Cropped Successfully\n",
      "D:\\imagedata\\Eso_NoZeroCentered_DifferentSizes_npyImages\\Eso_Numpy_NoZeroCent_NoNorm64x64x64\\273580.npy Cropped Successfully\n",
      "D:\\imagedata\\Eso_NoZeroCentered_DifferentSizes_npyImages\\Eso_Numpy_NoZeroCent_NoNorm64x64x64\\273851.npy Cropped Successfully\n",
      "D:\\imagedata\\Eso_NoZeroCentered_DifferentSizes_npyImages\\Eso_Numpy_NoZeroCent_NoNorm64x64x64\\273890.npy Cropped Successfully\n",
      "D:\\imagedata\\Eso_NoZeroCentered_DifferentSizes_npyImages\\Eso_Numpy_NoZeroCent_NoNorm64x64x64\\273913.npy Cropped Successfully\n",
      "D:\\imagedata\\Eso_NoZeroCentered_DifferentSizes_npyImages\\Eso_Numpy_NoZeroCent_NoNorm64x64x64\\274094.npy Cropped Successfully\n",
      "D:\\imagedata\\Eso_NoZeroCentered_DifferentSizes_npyImages\\Eso_Numpy_NoZeroCent_NoNorm64x64x64\\274108.npy Cropped Successfully\n",
      "D:\\imagedata\\Eso_NoZeroCentered_DifferentSizes_npyImages\\Eso_Numpy_NoZeroCent_NoNorm64x64x64\\278732.npy Cropped Successfully\n"
     ]
    }
   ],
   "source": [
    "DoneFiles = []\n",
    "NotDoneFiles = []\n",
    "for k in range(len(pathlist)):\n",
    "    path2Rtstr = []\n",
    "    for i in os.listdir(pathlist[k]):\n",
    "        if 'RS' in i:\n",
    "            path2Rtstr.append(i)\n",
    "    RTstrPath = os.path.join(pathlist[k],path2Rtstr[0])\n",
    "    DICOMpath = pathlist[k]\n",
    "    fname = outputdir + RTstrPath[-10:][:6] + '.npy'\n",
    "    try:\n",
    "        img = preprocessDICOM.preprocess(DICOMpath,RTstrPath,zero=False,crop_fact=64,crop_length=64,norm=False)\n",
    "    except:\n",
    "        print(f'Could not Convert -- {fname}')\n",
    "        NotDoneFiles.append(fname)\n",
    "    np.save(fname,img)\n",
    "    print(f'{fname} Cropped Successfully')\n",
    "    DoneFiles.append(fname)"
   ]
  },
  {
   "cell_type": "code",
   "execution_count": 8,
   "id": "29d21441",
   "metadata": {},
   "outputs": [
    {
     "data": {
      "text/plain": [
       "211"
      ]
     },
     "execution_count": 8,
     "metadata": {},
     "output_type": "execute_result"
    }
   ],
   "source": [
    "len(DoneFiles)"
   ]
  },
  {
   "cell_type": "code",
   "execution_count": null,
   "id": "sought-decision",
   "metadata": {},
   "outputs": [],
   "source": [
    "outputdir = 'D:\\\\imagedata\\\\Eso_Numpy_NoZeroCent64x64x96_211\\\\'"
   ]
  },
  {
   "cell_type": "code",
   "execution_count": null,
   "id": "ec4bf8d6",
   "metadata": {},
   "outputs": [],
   "source": [
    "DoneFiles = []\n",
    "NotDoneFiles = []\n",
    "for k in range(len(pathlist)):\n",
    "    path2Rtstr = []\n",
    "    for i in os.listdir(pathlist[k]):\n",
    "        if 'RS' in i:\n",
    "            path2Rtstr.append(i)\n",
    "    RTstrPath = os.path.join(pathlist[k],path2Rtstr[0])\n",
    "    DICOMpath = pathlist[k]\n",
    "    fname = outputdir + RTstrPath[-10:][:6] + '.npy'\n",
    "    try:\n",
    "        img = preprocessDICOM.preprocess(DICOMpath,RTstrPath,zero=False,crop_fact=64,crop_length=96)\n",
    "    except:\n",
    "        print(f'Could not Convert -- {fname}')\n",
    "        NotDoneFiles.append(fname)\n",
    "    np.save(fname,img)\n",
    "    print(f'{fname} Cropped Successfully')\n",
    "    DoneFiles.append(fname)"
   ]
  },
  {
   "cell_type": "code",
   "execution_count": null,
   "id": "24786c08",
   "metadata": {},
   "outputs": [],
   "source": [
    "outputdir = 'D:\\\\imagedata\\\\Eso_Numpy_NoZeroCent96x96x96_211\\\\'"
   ]
  },
  {
   "cell_type": "code",
   "execution_count": null,
   "id": "b5402d94",
   "metadata": {},
   "outputs": [],
   "source": [
    "DoneFiles = []\n",
    "NotDoneFiles = []\n",
    "for k in range(len(pathlist)):\n",
    "    path2Rtstr = []\n",
    "    for i in os.listdir(pathlist[k]):\n",
    "        if 'RS' in i:\n",
    "            path2Rtstr.append(i)\n",
    "    RTstrPath = os.path.join(pathlist[k],path2Rtstr[0])\n",
    "    DICOMpath = pathlist[k]\n",
    "    fname = outputdir + RTstrPath[-10:][:6] + '.npy'\n",
    "    try:\n",
    "        img = preprocessDICOM.preprocess(DICOMpath,RTstrPath,zero=False,crop_fact=96,crop_length=96)\n",
    "    except:\n",
    "        print(f'Could not Convert -- {fname}')\n",
    "        NotDoneFiles.append(fname)\n",
    "    np.save(fname,img)\n",
    "    print(f'{fname} Cropped Successfully')\n",
    "    DoneFiles.append(fname)"
   ]
  },
  {
   "cell_type": "code",
   "execution_count": null,
   "id": "5d5b9cda",
   "metadata": {},
   "outputs": [],
   "source": [
    "outputdir = 'D:\\\\imagedata\\\\Eso_Numpy_NoZeroCent96x96x128_211\\\\'"
   ]
  },
  {
   "cell_type": "code",
   "execution_count": null,
   "id": "c8892f77",
   "metadata": {},
   "outputs": [],
   "source": [
    "DoneFiles = []\n",
    "NotDoneFiles = []\n",
    "for k in range(len(pathlist)):\n",
    "    path2Rtstr = []\n",
    "    for i in os.listdir(pathlist[k]):\n",
    "        if 'RS' in i:\n",
    "            path2Rtstr.append(i)\n",
    "    RTstrPath = os.path.join(pathlist[k],path2Rtstr[0])\n",
    "    DICOMpath = pathlist[k]\n",
    "    fname = outputdir + RTstrPath[-10:][:6] + '.npy'\n",
    "    try:\n",
    "        img = preprocessDICOM.preprocess(DICOMpath,RTstrPath,zero=False,crop_fact=96,crop_length=128)\n",
    "    except:\n",
    "        print(f'Could not Convert -- {fname}')\n",
    "        NotDoneFiles.append(fname)\n",
    "    np.save(fname,img)\n",
    "    print(f'{fname} Cropped Successfully')\n",
    "    DoneFiles.append(fname)"
   ]
  },
  {
   "cell_type": "code",
   "execution_count": null,
   "id": "651691f1",
   "metadata": {},
   "outputs": [],
   "source": [
    "outputdir = 'D:\\\\imagedata\\\\Eso_Numpy_NoZeroCent128x128x128_211\\\\'"
   ]
  },
  {
   "cell_type": "code",
   "execution_count": null,
   "id": "904336e2",
   "metadata": {},
   "outputs": [],
   "source": [
    "DoneFiles = []\n",
    "NotDoneFiles = []\n",
    "for k in range(len(pathlist)):\n",
    "    path2Rtstr = []\n",
    "    for i in os.listdir(pathlist[k]):\n",
    "        if 'RS' in i:\n",
    "            path2Rtstr.append(i)\n",
    "    RTstrPath = os.path.join(pathlist[k],path2Rtstr[0])\n",
    "    DICOMpath = pathlist[k]\n",
    "    fname = outputdir + RTstrPath[-10:][:6] + '.npy'\n",
    "    try:\n",
    "        img = preprocessDICOM.preprocess(DICOMpath,RTstrPath,zero=False,crop_fact=128,crop_length=128)\n",
    "    except:\n",
    "        print(f'Could not Convert -- {fname}')\n",
    "        NotDoneFiles.append(fname)\n",
    "    np.save(fname,img)\n",
    "    print(f'{fname} Cropped Successfully')\n",
    "    DoneFiles.append(fname)"
   ]
  },
  {
   "cell_type": "code",
   "execution_count": null,
   "id": "0f60dd4f",
   "metadata": {},
   "outputs": [],
   "source": []
  },
  {
   "cell_type": "code",
   "execution_count": null,
   "id": "f68d5c56",
   "metadata": {},
   "outputs": [],
   "source": []
  }
 ],
 "metadata": {
  "kernelspec": {
   "display_name": "Python 3",
   "language": "python",
   "name": "python3"
  },
  "language_info": {
   "codemirror_mode": {
    "name": "ipython",
    "version": 3
   },
   "file_extension": ".py",
   "mimetype": "text/x-python",
   "name": "python",
   "nbconvert_exporter": "python",
   "pygments_lexer": "ipython3",
   "version": "3.8.6"
  }
 },
 "nbformat": 4,
 "nbformat_minor": 5
}
