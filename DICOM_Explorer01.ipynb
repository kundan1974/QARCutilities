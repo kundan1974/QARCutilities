{
 "cells": [
  {
   "cell_type": "code",
   "execution_count": null,
   "id": "public-saver",
   "metadata": {},
   "outputs": [],
   "source": [
    "import cv2\n",
    "import numpy as np\n",
    "import matplotlib.pyplot as plt\n",
    "import pydicom as dcm\n",
    "import os\n",
    "import glob\n",
    "\n",
    "%matplotlib inline"
   ]
  },
  {
   "cell_type": "code",
   "execution_count": null,
   "id": "committed-consent",
   "metadata": {},
   "outputs": [],
   "source": [
    "import pandas as pd\n",
    "import scipy.ndimage\n",
    "from skimage import measure, morphology\n",
    "from mpl_toolkits.mplot3d.art3d import Poly3DCollection"
   ]
  },
  {
   "cell_type": "code",
   "execution_count": null,
   "id": "brief-dictionary",
   "metadata": {},
   "outputs": [],
   "source": [
    "INPUT_FOLDER = '../imagedata/Esophagus_DICOM_211Pt/133673/'\n",
    "scans = os.listdir(INPUT_FOLDER)\n",
    "scans.sort()"
   ]
  },
  {
   "cell_type": "code",
   "execution_count": null,
   "id": "subtle-plant",
   "metadata": {},
   "outputs": [],
   "source": [
    "lstFilesDCM = []\n",
    "def load_scan(path):\n",
    "    for dirName, subdirList, fileList in os.walk(path):\n",
    "        for filename in fileList:\n",
    "            if \".dcm\" in filename.lower():\n",
    "                lstFilesDCM.append(os.path.join(dirName,filename))\n",
    "    return lstFilesDCM\n",
    "\n",
    "first_patient = load_scan(INPUT_FOLDER)\n",
    "for i,j in enumerate(first_patient):\n",
    "    if j[42:44] == 'RS':\n",
    "        rtstr = first_patient.pop(i)\n",
    "len(first_patient)"
   ]
  },
  {
   "cell_type": "code",
   "execution_count": null,
   "id": "sunrise-officer",
   "metadata": {},
   "outputs": [],
   "source": [
    "rtstrdcm = dcm.read_file(rtstr)"
   ]
  },
  {
   "cell_type": "code",
   "execution_count": null,
   "id": "champion-bedroom",
   "metadata": {},
   "outputs": [],
   "source": [
    "RefIDs = dcm.read_file(first_patient[4])\n",
    "ConstPixelDims = (int(RefIDs.Rows),int(RefIDs.Columns),len(first_patient))\n",
    "ConstPixelSpacing = (float(RefIDs.PixelSpacing[0]),float(RefIDs.PixelSpacing[1]),float(RefIDs.SliceThickness))"
   ]
  },
  {
   "cell_type": "code",
   "execution_count": null,
   "id": "correct-tribute",
   "metadata": {},
   "outputs": [],
   "source": [
    "RefIDs.InstanceNumber"
   ]
  },
  {
   "cell_type": "code",
   "execution_count": null,
   "id": "regular-pointer",
   "metadata": {},
   "outputs": [],
   "source": [
    "ConstPixelSpacing, ConstPixelDims"
   ]
  },
  {
   "cell_type": "code",
   "execution_count": null,
   "id": "offshore-composite",
   "metadata": {},
   "outputs": [],
   "source": [
    "x = np.arange(0.0,(ConstPixelDims[0]+1)*ConstPixelSpacing[0],ConstPixelSpacing[0])\n",
    "y = np.arange(0.0,(ConstPixelDims[1]+1)*ConstPixelSpacing[1],ConstPixelSpacing[1])\n",
    "z = np.arange(0.0,(ConstPixelDims[2]+1)*ConstPixelSpacing[2],ConstPixelSpacing[2])"
   ]
  },
  {
   "cell_type": "code",
   "execution_count": null,
   "id": "medium-legend",
   "metadata": {},
   "outputs": [],
   "source": [
    "ArrayDicom = np.zeros(ConstPixelDims,dtype=RefIDs.pixel_array.dtype)\n",
    "for filenameDCM in first_patient:\n",
    "    ds = dcm.read_file(filenameDCM)\n",
    "    ArrayDicom[:,:,ds.InstanceNumber-1] = ds.pixel_array"
   ]
  },
  {
   "cell_type": "code",
   "execution_count": null,
   "id": "passive-closer",
   "metadata": {},
   "outputs": [],
   "source": [
    "#ArrayDicom"
   ]
  },
  {
   "cell_type": "code",
   "execution_count": null,
   "id": "north-healing",
   "metadata": {},
   "outputs": [],
   "source": [
    "plt.figure(dpi=1600)\n",
    "plt.axes().set_aspect('equal','datalim')\n",
    "plt.set_cmap(plt.gray())\n",
    "plt.pcolormesh(x,y,np.flipud(ArrayDicom[:,:,105]))"
   ]
  },
  {
   "cell_type": "code",
   "execution_count": null,
   "id": "sonic-store",
   "metadata": {},
   "outputs": [],
   "source": [
    "from fastai.basics import *\n",
    "from fastai.callback.all import *\n",
    "from fastai.vision.all import *\n",
    "from fastai.medical.imaging import *"
   ]
  },
  {
   "cell_type": "code",
   "execution_count": null,
   "id": "requested-description",
   "metadata": {},
   "outputs": [],
   "source": [
    "import pydicom\n",
    "import seaborn as sns\n",
    "matplotlib.rcParams['image.cmap'] = 'bone'\n",
    "from matplotlib.colors import ListedColormap, LinearSegmentedColormap"
   ]
  },
  {
   "cell_type": "code",
   "execution_count": null,
   "id": "sustained-encyclopedia",
   "metadata": {},
   "outputs": [],
   "source": [
    "#get dicom files\n",
    "csource = '../imagedata/Esophagus_DICOM_211Pt/127279/'\n",
    "citems = get_dicom_files(csource)\n",
    "#now lets read a file:\n",
    "patient2 = dcm.read_file(citems[10])\n",
    "patient2.show()"
   ]
  },
  {
   "cell_type": "code",
   "execution_count": null,
   "id": "apart-cattle",
   "metadata": {},
   "outputs": [],
   "source": [
    "patient2"
   ]
  },
  {
   "cell_type": "code",
   "execution_count": null,
   "id": "executive-defense",
   "metadata": {},
   "outputs": [],
   "source": [
    "#patient2"
   ]
  },
  {
   "cell_type": "code",
   "execution_count": null,
   "id": "removed-eligibility",
   "metadata": {},
   "outputs": [],
   "source": [
    "rtstrdcm"
   ]
  },
  {
   "cell_type": "code",
   "execution_count": null,
   "id": "initial-abortion",
   "metadata": {},
   "outputs": [],
   "source": [
    "RefIDs = dcm.read_file(first_patient[11])\n",
    "RefIDs"
   ]
  },
  {
   "cell_type": "code",
   "execution_count": null,
   "id": "blind-admission",
   "metadata": {},
   "outputs": [],
   "source": [
    "pat1 = citems[10].dcmread()"
   ]
  },
  {
   "cell_type": "code",
   "execution_count": null,
   "id": "boolean-overview",
   "metadata": {},
   "outputs": [],
   "source": [
    "plt.hist(pat1.pixels.flatten().numpy())"
   ]
  },
  {
   "cell_type": "code",
   "execution_count": null,
   "id": "generous-tradition",
   "metadata": {},
   "outputs": [],
   "source": [
    "pat1.show()"
   ]
  },
  {
   "cell_type": "code",
   "execution_count": null,
   "id": "wired-somerset",
   "metadata": {},
   "outputs": [],
   "source": [
    "plt.hist(pat1.scaled_px.flatten().numpy());"
   ]
  },
  {
   "cell_type": "code",
   "execution_count": null,
   "id": "revolutionary-source",
   "metadata": {},
   "outputs": [],
   "source": [
    "img_raw = pat1.pixels.numpy()\n",
    "img_scaled = pat1.scaled_px.numpy()"
   ]
  },
  {
   "cell_type": "code",
   "execution_count": null,
   "id": "bronze-somerset",
   "metadata": {},
   "outputs": [],
   "source": [
    "fig, axs = plt.subplots(1, 2,figsize=(24,16))\n",
    "\n",
    "axs[0].imshow(img_raw,cmap='gray')\n",
    "axs[1].imshow(img_scaled,cmap='gray')\n",
    "  \n",
    "fig.suptitle('Raw image versus Scaled image')\n",
    "#plt.figure(figsize=(12,4))\n",
    "plt.show()"
   ]
  },
  {
   "cell_type": "code",
   "execution_count": null,
   "id": "adequate-berlin",
   "metadata": {},
   "outputs": [],
   "source": [
    "img_raw.min(), img_scaled.min()"
   ]
  },
  {
   "cell_type": "code",
   "execution_count": null,
   "id": "prime-mailman",
   "metadata": {},
   "outputs": [],
   "source": [
    "img_raw_norm = (img_raw-img_raw.min())/(img_raw.max()-img_raw.min())\n",
    "img_scaled_norm = (img_scaled-img_scaled.min())/(img_scaled.max()-img_scaled.min())"
   ]
  },
  {
   "cell_type": "code",
   "execution_count": null,
   "id": "fuzzy-compression",
   "metadata": {},
   "outputs": [],
   "source": [
    "fig, axs = plt.subplots(2, 2,figsize=(24,16))\n",
    "\n",
    "axs[0,0].imshow(img_raw,cmap='gray')\n",
    "axs[0,1].imshow(img_scaled,cmap='gray')\n",
    "axs[1,0].imshow(img_raw_norm,cmap='gray')\n",
    "axs[1,1].imshow(img_scaled_norm,cmap='gray') \n",
    "\n",
    "fig.subplots_adjust(wspace=0.05,hspace=0.1)\n",
    "#fig.suptitle('Raw image versus Scaled image')\n",
    "fig.tight_layout()\n",
    "plt.show()"
   ]
  },
  {
   "cell_type": "markdown",
   "id": "qualified-private",
   "metadata": {},
   "source": [
    "# Kaggle Preprocessing Tutorial\n",
    "\n",
    "> [Refrence](https://www.kaggle.com/gzuidhof/full-preprocessing-tutorial)"
   ]
  },
  {
   "cell_type": "code",
   "execution_count": 1,
   "id": "honest-treasure",
   "metadata": {},
   "outputs": [],
   "source": [
    "%matplotlib inline\n",
    "\n",
    "import numpy as np # linear algebra\n",
    "import pandas as pd # data processing, CSV file I/O (e.g. pd.read_csv)\n",
    "import pydicom\n",
    "import os\n",
    "import scipy.ndimage\n",
    "import matplotlib.pyplot as plt\n",
    "\n",
    "from skimage import measure, morphology\n",
    "from mpl_toolkits.mplot3d.art3d import Poly3DCollection\n",
    "\n",
    "# Some constants \n",
    "INPUT_FOLDER = '../imagedata/test_dicom/'\n",
    "patients = os.listdir(INPUT_FOLDER)\n",
    "patients.sort()"
   ]
  },
  {
   "cell_type": "code",
   "execution_count": 2,
   "id": "selective-novel",
   "metadata": {},
   "outputs": [
    {
     "data": {
      "text/plain": [
       "'.DS_Store'"
      ]
     },
     "execution_count": 2,
     "metadata": {},
     "output_type": "execute_result"
    }
   ],
   "source": [
    "patients.pop(0)"
   ]
  },
  {
   "cell_type": "code",
   "execution_count": 3,
   "id": "everyday-desert",
   "metadata": {},
   "outputs": [],
   "source": [
    "# Load the scans in given folder path\n",
    "def load_scan(path):\n",
    "    slices = []\n",
    "    for s in os.listdir(INPUT_FOLDER + patients[0]):\n",
    "        if s != '.DS_Store':\n",
    "            slices.append(pydicom.read_file(INPUT_FOLDER+ patients[0] + '/' + s,force=True))\n",
    "    slices.sort(key = lambda x: float(x.ImagePositionPatient[2]))\n",
    "    try:\n",
    "        slice_thickness = np.abs(slices[0].ImagePositionPatient[2] - slices[1].ImagePositionPatient[2])\n",
    "    except:\n",
    "        slice_thickness = np.abs(slices[0].SliceLocation - slices[1].SliceLocation)\n",
    "        \n",
    "    for s in slices:\n",
    "        s.SliceThickness = slice_thickness\n",
    "        \n",
    "    return slices"
   ]
  },
  {
   "cell_type": "code",
   "execution_count": 4,
   "id": "peripheral-spider",
   "metadata": {},
   "outputs": [],
   "source": [
    "def get_pixels_hu(slices):\n",
    "    image = np.stack([s.pixel_array for s in slices])\n",
    "    # Convert to int16 (from sometimes int16), \n",
    "    # should be possible as values should always be low enough (<32k)\n",
    "    image = image.astype(np.int16)\n",
    "\n",
    "    # Set outside-of-scan pixels to 0\n",
    "    # The intercept is usually -1024, so air is approximately 0\n",
    "    image[image == -2000] = 0\n",
    "    \n",
    "    # Convert to Hounsfield units (HU)\n",
    "    for slice_number in range(len(slices)):\n",
    "        \n",
    "        intercept = slices[slice_number].RescaleIntercept\n",
    "        slope = slices[slice_number].RescaleSlope\n",
    "        \n",
    "        if slope != 1:\n",
    "            image[slice_number] = slope * image[slice_number].astype(np.float64)\n",
    "            image[slice_number] = image[slice_number].astype(np.int16)\n",
    "            \n",
    "        image[slice_number] += np.int16(intercept)\n",
    "    \n",
    "    return np.array(image, dtype=np.int16)"
   ]
  },
  {
   "cell_type": "code",
   "execution_count": 335,
   "id": "historical-visiting",
   "metadata": {},
   "outputs": [
    {
     "data": {
      "text/plain": [
       "'133673'"
      ]
     },
     "execution_count": 335,
     "metadata": {},
     "output_type": "execute_result"
    }
   ],
   "source": [
    "patients[0]"
   ]
  },
  {
   "cell_type": "code",
   "execution_count": 5,
   "id": "after-westminster",
   "metadata": {},
   "outputs": [
    {
     "data": {
      "image/png": "[encoded data removed]",
      "text/plain": [
       "<Figure size 432x288 with 1 Axes>"
      ]
     },
     "metadata": {
      "needs_background": "light"
     },
     "output_type": "display_data"
    },
    {
     "data": {
      "image/png": "[encoded data removed]",
      "text/plain": [
       "<Figure size 432x288 with 1 Axes>"
      ]
     },
     "metadata": {
      "needs_background": "light"
     },
     "output_type": "display_data"
    }
   ],
   "source": [
    "first_patient = load_scan(INPUT_FOLDER + patients[0])\n",
    "first_patient_pixels = get_pixels_hu(first_patient)\n",
    "plt.hist(first_patient_pixels.flatten(), bins=80, color='c')\n",
    "plt.xlabel(\"Hounsfield Units (HU)\")\n",
    "plt.ylabel(\"Frequency\")\n",
    "plt.show()\n",
    "\n",
    "# Show some slice in the middle\n",
    "plt.imshow(first_patient_pixels[80], cmap=plt.cm.gray)\n",
    "plt.show()"
   ]
  },
  {
   "cell_type": "code",
   "execution_count": 337,
   "id": "canadian-allocation",
   "metadata": {},
   "outputs": [
    {
     "data": {
      "text/plain": [
       "-1000"
      ]
     },
     "execution_count": 337,
     "metadata": {},
     "output_type": "execute_result"
    }
   ],
   "source": [
    "first_patient_pixels.min()"
   ]
  },
  {
   "cell_type": "code",
   "execution_count": 6,
   "id": "forced-chemical",
   "metadata": {},
   "outputs": [],
   "source": [
    "def resample(image, scan, new_spacing=[1,1,1]):\n",
    "    # Determine current pixel spacing\n",
    "    spacing = np.array([scan[0].SliceThickness] + [scan[0].PixelSpacing[0]] +\n",
    "                       [scan[0].PixelSpacing[1]], dtype=np.float32)\n",
    "\n",
    "    resize_factor = spacing / new_spacing\n",
    "    new_real_shape = image.shape * resize_factor\n",
    "    new_shape = np.round(new_real_shape)\n",
    "    real_resize_factor = new_shape / image.shape\n",
    "    new_spacing = spacing / real_resize_factor\n",
    "    \n",
    "    image = scipy.ndimage.interpolation.zoom(image, real_resize_factor, mode='nearest')\n",
    "    \n",
    "    return image, new_spacing"
   ]
  },
  {
   "cell_type": "code",
   "execution_count": 7,
   "id": "blessed-meaning",
   "metadata": {},
   "outputs": [
    {
     "name": "stdout",
     "output_type": "stream",
     "text": [
      "Shape before resampling\t (290, 512, 512)\n",
      "Shape after resampling\t (870, 700, 700)\n"
     ]
    }
   ],
   "source": [
    "pix_resampled, spacing = resample(first_patient_pixels, first_patient, [1,1,1])\n",
    "print(\"Shape before resampling\\t\", first_patient_pixels.shape)\n",
    "print(\"Shape after resampling\\t\", pix_resampled.shape)"
   ]
  },
  {
   "cell_type": "code",
   "execution_count": 8,
   "id": "declared-activity",
   "metadata": {},
   "outputs": [
    {
     "data": {
      "text/plain": [
       "<matplotlib.image.AxesImage at 0x7ffc48051b20>"
      ]
     },
     "execution_count": 8,
     "metadata": {},
     "output_type": "execute_result"
    },
    {
     "data": {
      "image/png": "[encoded data removed]",
      "text/plain": [
       "<Figure size 432x288 with 1 Axes>"
      ]
     },
     "metadata": {
      "needs_background": "light"
     },
     "output_type": "display_data"
    }
   ],
   "source": [
    "plt.imshow(pix_resampled[268], cmap=plt.cm.gray)"
   ]
  },
  {
   "cell_type": "code",
   "execution_count": 9,
   "id": "established-eight",
   "metadata": {},
   "outputs": [],
   "source": [
    "def plot_3d(image, threshold=-300):\n",
    "    \n",
    "    # Position the scan upright, \n",
    "    # so the head of the patient would be at the top facing the camera\n",
    "    p = image.transpose(2,1,0)\n",
    "    \n",
    "    verts, faces,_,_ = measure.marching_cubes(p, threshold)\n",
    "\n",
    "    fig = plt.figure(figsize=(10, 10))\n",
    "    ax = fig.add_subplot(111, projection='3d')\n",
    "\n",
    "    # Fancy indexing: `verts[faces]` to generate a collection of triangles\n",
    "    mesh = Poly3DCollection(verts[faces], alpha=0.70)\n",
    "    face_color = [0.45, 0.45, 0.75]\n",
    "    mesh.set_facecolor(face_color)\n",
    "    ax.add_collection3d(mesh)\n",
    "\n",
    "    ax.set_xlim(0, p.shape[0])\n",
    "    ax.set_ylim(0, p.shape[1])\n",
    "    ax.set_zlim(0, p.shape[2])\n",
    "\n",
    "    plt.show()"
   ]
  },
  {
   "cell_type": "code",
   "execution_count": 10,
   "id": "residential-mountain",
   "metadata": {},
   "outputs": [],
   "source": [
    "#plot_3d(pix_resampled, 500)"
   ]
  },
  {
   "cell_type": "markdown",
   "id": "amateur-shirt",
   "metadata": {},
   "source": [
    "# Exploring RT Structure File"
   ]
  },
  {
   "cell_type": "code",
   "execution_count": 11,
   "id": "automated-girlfriend",
   "metadata": {},
   "outputs": [],
   "source": [
    "strfiles = '../imagedata/RTstrFiles/RS.133673.dcm'"
   ]
  },
  {
   "cell_type": "code",
   "execution_count": 12,
   "id": "damaged-admission",
   "metadata": {},
   "outputs": [],
   "source": [
    "strfile = pydicom.dcmread(strfiles)"
   ]
  },
  {
   "cell_type": "code",
   "execution_count": 13,
   "id": "unlikely-playing",
   "metadata": {},
   "outputs": [
    {
     "data": {
      "text/plain": [
       "['ROIContourSequence']"
      ]
     },
     "execution_count": 13,
     "metadata": {},
     "output_type": "execute_result"
    }
   ],
   "source": [
    "strfile.dir('contour')"
   ]
  },
  {
   "cell_type": "code",
   "execution_count": 14,
   "id": "respiratory-argentina",
   "metadata": {},
   "outputs": [],
   "source": [
    "contours = strfile.ROIContourSequence"
   ]
  },
  {
   "cell_type": "code",
   "execution_count": 15,
   "id": "former-journal",
   "metadata": {},
   "outputs": [
    {
     "data": {
      "text/plain": [
       "(3006, 002a) ROI Display Color                   IS: [255, 0, 0]\n",
       "(3006, 0040)  Contour Sequence  30 item(s) ---- \n",
       "   (3006, 0016)  Contour Image Sequence  1 item(s) ---- \n",
       "      (0008, 1150) Referenced SOP Class UID            UI: CT Image Storage\n",
       "      (0008, 1155) Referenced SOP Instance UID         UI: 1.3.12.2.1107.5.1.4.1018.30000011072103541962500002531\n",
       "      ---------\n",
       "   (3006, 0042) Contour Geometric Type              CS: 'CLOSED_PLANAR'\n",
       "   (3006, 0046) Number of Contour Points            IS: \"56\"\n",
       "   (3006, 0050) Contour Data                        DS: Array of 168 elements\n",
       "   ---------\n",
       "   (3006, 0016)  Contour Image Sequence  1 item(s) ---- \n",
       "      (0008, 1150) Referenced SOP Class UID            UI: CT Image Storage\n",
       "      (0008, 1155) Referenced SOP Instance UID         UI: 1.3.12.2.1107.5.1.4.1018.30000011072103541962500002530\n",
       "      ---------\n",
       "   (3006, 0042) Contour Geometric Type              CS: 'CLOSED_PLANAR'\n",
       "   (3006, 0046) Number of Contour Points            IS: \"64\"\n",
       "   (3006, 0050) Contour Data                        DS: Array of 192 elements\n",
       "   ---------\n",
       "   (3006, 0016)  Contour Image Sequence  1 item(s) ---- \n",
       "      (0008, 1150) Referenced SOP Class UID            UI: CT Image Storage\n",
       "      (0008, 1155) Referenced SOP Instance UID         UI: 1.3.12.2.1107.5.1.4.1018.30000011072103541962500002529\n",
       "      ---------\n",
       "   (3006, 0042) Contour Geometric Type              CS: 'CLOSED_PLANAR'\n",
       "   (3006, 0046) Number of Contour Points            IS: \"70\"\n",
       "   (3006, 0050) Contour Data                        DS: Array of 210 elements\n",
       "   ---------\n",
       "   (3006, 0016)  Contour Image Sequence  1 item(s) ---- \n",
       "      (0008, 1150) Referenced SOP Class UID            UI: CT Image Storage\n",
       "      (0008, 1155) Referenced SOP Instance UID         UI: 1.3.12.2.1107.5.1.4.1018.30000011072103541962500002528\n",
       "      ---------\n",
       "   (3006, 0042) Contour Geometric Type              CS: 'CLOSED_PLANAR'\n",
       "   (3006, 0046) Number of Contour Points            IS: \"78\"\n",
       "   (3006, 0050) Contour Data                        DS: Array of 234 elements\n",
       "   ---------\n",
       "   (3006, 0016)  Contour Image Sequence  1 item(s) ---- \n",
       "      (0008, 1150) Referenced SOP Class UID            UI: CT Image Storage\n",
       "      (0008, 1155) Referenced SOP Instance UID         UI: 1.3.12.2.1107.5.1.4.1018.30000011072103541962500002528\n",
       "      ---------\n",
       "   (3006, 0042) Contour Geometric Type              CS: 'CLOSED_PLANAR'\n",
       "   (3006, 0046) Number of Contour Points            IS: \"12\"\n",
       "   (3006, 0050) Contour Data                        DS: Array of 36 elements\n",
       "   ---------\n",
       "   (3006, 0016)  Contour Image Sequence  1 item(s) ---- \n",
       "      (0008, 1150) Referenced SOP Class UID            UI: CT Image Storage\n",
       "      (0008, 1155) Referenced SOP Instance UID         UI: 1.3.12.2.1107.5.1.4.1018.30000011072103541962500002527\n",
       "      ---------\n",
       "   (3006, 0042) Contour Geometric Type              CS: 'CLOSED_PLANAR'\n",
       "   (3006, 0046) Number of Contour Points            IS: \"80\"\n",
       "   (3006, 0050) Contour Data                        DS: Array of 240 elements\n",
       "   ---------\n",
       "   (3006, 0016)  Contour Image Sequence  1 item(s) ---- \n",
       "      (0008, 1150) Referenced SOP Class UID            UI: CT Image Storage\n",
       "      (0008, 1155) Referenced SOP Instance UID         UI: 1.3.12.2.1107.5.1.4.1018.30000011072103541962500002527\n",
       "      ---------\n",
       "   (3006, 0042) Contour Geometric Type              CS: 'CLOSED_PLANAR'\n",
       "   (3006, 0046) Number of Contour Points            IS: \"12\"\n",
       "   (3006, 0050) Contour Data                        DS: Array of 36 elements\n",
       "   ---------\n",
       "   (3006, 0016)  Contour Image Sequence  1 item(s) ---- \n",
       "      (0008, 1150) Referenced SOP Class UID            UI: CT Image Storage\n",
       "      (0008, 1155) Referenced SOP Instance UID         UI: 1.3.12.2.1107.5.1.4.1018.30000011072103541962500002526\n",
       "      ---------\n",
       "   (3006, 0042) Contour Geometric Type              CS: 'CLOSED_PLANAR'\n",
       "   (3006, 0046) Number of Contour Points            IS: \"88\"\n",
       "   (3006, 0050) Contour Data                        DS: Array of 264 elements\n",
       "   ---------\n",
       "   (3006, 0016)  Contour Image Sequence  1 item(s) ---- \n",
       "      (0008, 1150) Referenced SOP Class UID            UI: CT Image Storage\n",
       "      (0008, 1155) Referenced SOP Instance UID         UI: 1.3.12.2.1107.5.1.4.1018.30000011072103541962500002526\n",
       "      ---------\n",
       "   (3006, 0042) Contour Geometric Type              CS: 'CLOSED_PLANAR'\n",
       "   (3006, 0046) Number of Contour Points            IS: \"12\"\n",
       "   (3006, 0050) Contour Data                        DS: Array of 36 elements\n",
       "   ---------\n",
       "   (3006, 0016)  Contour Image Sequence  1 item(s) ---- \n",
       "      (0008, 1150) Referenced SOP Class UID            UI: CT Image Storage\n",
       "      (0008, 1155) Referenced SOP Instance UID         UI: 1.3.12.2.1107.5.1.4.1018.30000011072103541962500002525\n",
       "      ---------\n",
       "   (3006, 0042) Contour Geometric Type              CS: 'CLOSED_PLANAR'\n",
       "   (3006, 0046) Number of Contour Points            IS: \"90\"\n",
       "   (3006, 0050) Contour Data                        DS: Array of 270 elements\n",
       "   ---------\n",
       "   (3006, 0016)  Contour Image Sequence  1 item(s) ---- \n",
       "      (0008, 1150) Referenced SOP Class UID            UI: CT Image Storage\n",
       "      (0008, 1155) Referenced SOP Instance UID         UI: 1.3.12.2.1107.5.1.4.1018.30000011072103541962500002525\n",
       "      ---------\n",
       "   (3006, 0042) Contour Geometric Type              CS: 'CLOSED_PLANAR'\n",
       "   (3006, 0046) Number of Contour Points            IS: \"10\"\n",
       "   (3006, 0050) Contour Data                        DS: Array of 30 elements\n",
       "   ---------\n",
       "   (3006, 0016)  Contour Image Sequence  1 item(s) ---- \n",
       "      (0008, 1150) Referenced SOP Class UID            UI: CT Image Storage\n",
       "      (0008, 1155) Referenced SOP Instance UID         UI: 1.3.12.2.1107.5.1.4.1018.30000011072103541962500002524\n",
       "      ---------\n",
       "   (3006, 0042) Contour Geometric Type              CS: 'CLOSED_PLANAR'\n",
       "   (3006, 0046) Number of Contour Points            IS: \"92\"\n",
       "   (3006, 0050) Contour Data                        DS: Array of 276 elements\n",
       "   ---------\n",
       "   (3006, 0016)  Contour Image Sequence  1 item(s) ---- \n",
       "      (0008, 1150) Referenced SOP Class UID            UI: CT Image Storage\n",
       "      (0008, 1155) Referenced SOP Instance UID         UI: 1.3.12.2.1107.5.1.4.1018.30000011072103541962500002524\n",
       "      ---------\n",
       "   (3006, 0042) Contour Geometric Type              CS: 'CLOSED_PLANAR'\n",
       "   (3006, 0046) Number of Contour Points            IS: \"12\"\n",
       "   (3006, 0050) Contour Data                        DS: Array of 36 elements\n",
       "   ---------\n",
       "   (3006, 0016)  Contour Image Sequence  1 item(s) ---- \n",
       "      (0008, 1150) Referenced SOP Class UID            UI: CT Image Storage\n",
       "      (0008, 1155) Referenced SOP Instance UID         UI: 1.3.12.2.1107.5.1.4.1018.30000011072103541962500002523\n",
       "      ---------\n",
       "   (3006, 0042) Contour Geometric Type              CS: 'CLOSED_PLANAR'\n",
       "   (3006, 0046) Number of Contour Points            IS: \"94\"\n",
       "   (3006, 0050) Contour Data                        DS: Array of 282 elements\n",
       "   ---------\n",
       "   (3006, 0016)  Contour Image Sequence  1 item(s) ---- \n",
       "      (0008, 1150) Referenced SOP Class UID            UI: CT Image Storage\n",
       "      (0008, 1155) Referenced SOP Instance UID         UI: 1.3.12.2.1107.5.1.4.1018.30000011072103541962500002523\n",
       "      ---------\n",
       "   (3006, 0042) Contour Geometric Type              CS: 'CLOSED_PLANAR'\n",
       "   (3006, 0046) Number of Contour Points            IS: \"8\"\n",
       "   (3006, 0050) Contour Data                        DS: Array of 24 elements\n",
       "   ---------\n",
       "   (3006, 0016)  Contour Image Sequence  1 item(s) ---- \n",
       "      (0008, 1150) Referenced SOP Class UID            UI: CT Image Storage\n",
       "      (0008, 1155) Referenced SOP Instance UID         UI: 1.3.12.2.1107.5.1.4.1018.30000011072103541962500002522\n",
       "      ---------\n",
       "   (3006, 0042) Contour Geometric Type              CS: 'CLOSED_PLANAR'\n",
       "   (3006, 0046) Number of Contour Points            IS: \"96\"\n",
       "   (3006, 0050) Contour Data                        DS: Array of 288 elements\n",
       "   ---------\n",
       "   (3006, 0016)  Contour Image Sequence  1 item(s) ---- \n",
       "      (0008, 1150) Referenced SOP Class UID            UI: CT Image Storage\n",
       "      (0008, 1155) Referenced SOP Instance UID         UI: 1.3.12.2.1107.5.1.4.1018.30000011072103541962500002521\n",
       "      ---------\n",
       "   (3006, 0042) Contour Geometric Type              CS: 'CLOSED_PLANAR'\n",
       "   (3006, 0046) Number of Contour Points            IS: \"98\"\n",
       "   (3006, 0050) Contour Data                        DS: Array of 294 elements\n",
       "   ---------\n",
       "   (3006, 0016)  Contour Image Sequence  1 item(s) ---- \n",
       "      (0008, 1150) Referenced SOP Class UID            UI: CT Image Storage\n",
       "      (0008, 1155) Referenced SOP Instance UID         UI: 1.3.12.2.1107.5.1.4.1018.30000011072103541962500002520\n",
       "      ---------\n",
       "   (3006, 0042) Contour Geometric Type              CS: 'CLOSED_PLANAR'\n",
       "   (3006, 0046) Number of Contour Points            IS: \"96\"\n",
       "   (3006, 0050) Contour Data                        DS: Array of 288 elements\n",
       "   ---------\n",
       "   (3006, 0016)  Contour Image Sequence  1 item(s) ---- \n",
       "      (0008, 1150) Referenced SOP Class UID            UI: CT Image Storage\n",
       "      (0008, 1155) Referenced SOP Instance UID         UI: 1.3.12.2.1107.5.1.4.1018.30000011072103541962500002519\n",
       "      ---------\n",
       "   (3006, 0042) Contour Geometric Type              CS: 'CLOSED_PLANAR'\n",
       "   (3006, 0046) Number of Contour Points            IS: \"96\"\n",
       "   (3006, 0050) Contour Data                        DS: Array of 288 elements\n",
       "   ---------\n",
       "   (3006, 0016)  Contour Image Sequence  1 item(s) ---- \n",
       "      (0008, 1150) Referenced SOP Class UID            UI: CT Image Storage\n",
       "      (0008, 1155) Referenced SOP Instance UID         UI: 1.3.12.2.1107.5.1.4.1018.30000011072103541962500002518\n",
       "      ---------\n",
       "   (3006, 0042) Contour Geometric Type              CS: 'CLOSED_PLANAR'\n",
       "   (3006, 0046) Number of Contour Points            IS: \"98\"\n",
       "   (3006, 0050) Contour Data                        DS: Array of 294 elements\n",
       "   ---------\n",
       "   (3006, 0016)  Contour Image Sequence  1 item(s) ---- \n",
       "      (0008, 1150) Referenced SOP Class UID            UI: CT Image Storage\n",
       "      (0008, 1155) Referenced SOP Instance UID         UI: 1.3.12.2.1107.5.1.4.1018.30000011072103541962500002517\n",
       "      ---------\n",
       "   (3006, 0042) Contour Geometric Type              CS: 'CLOSED_PLANAR'\n",
       "   (3006, 0046) Number of Contour Points            IS: \"94\"\n",
       "   (3006, 0050) Contour Data                        DS: Array of 282 elements\n",
       "   ---------\n",
       "   (3006, 0016)  Contour Image Sequence  1 item(s) ---- \n",
       "      (0008, 1150) Referenced SOP Class UID            UI: CT Image Storage\n",
       "      (0008, 1155) Referenced SOP Instance UID         UI: 1.3.12.2.1107.5.1.4.1018.30000011072103541962500002516\n",
       "      ---------\n",
       "   (3006, 0042) Contour Geometric Type              CS: 'CLOSED_PLANAR'\n",
       "   (3006, 0046) Number of Contour Points            IS: \"90\"\n",
       "   (3006, 0050) Contour Data                        DS: Array of 270 elements\n",
       "   ---------\n",
       "   (3006, 0016)  Contour Image Sequence  1 item(s) ---- \n",
       "      (0008, 1150) Referenced SOP Class UID            UI: CT Image Storage\n",
       "      (0008, 1155) Referenced SOP Instance UID         UI: 1.3.12.2.1107.5.1.4.1018.30000011072103541962500002515\n",
       "      ---------\n",
       "   (3006, 0042) Contour Geometric Type              CS: 'CLOSED_PLANAR'\n",
       "   (3006, 0046) Number of Contour Points            IS: \"82\"\n",
       "   (3006, 0050) Contour Data                        DS: Array of 246 elements\n",
       "   ---------\n",
       "   (3006, 0016)  Contour Image Sequence  1 item(s) ---- \n",
       "      (0008, 1150) Referenced SOP Class UID            UI: CT Image Storage\n",
       "      (0008, 1155) Referenced SOP Instance UID         UI: 1.3.12.2.1107.5.1.4.1018.30000011072103541962500002514\n",
       "      ---------\n",
       "   (3006, 0042) Contour Geometric Type              CS: 'CLOSED_PLANAR'\n",
       "   (3006, 0046) Number of Contour Points            IS: \"72\"\n",
       "   (3006, 0050) Contour Data                        DS: Array of 216 elements\n",
       "   ---------\n",
       "   (3006, 0016)  Contour Image Sequence  1 item(s) ---- \n",
       "      (0008, 1150) Referenced SOP Class UID            UI: CT Image Storage\n",
       "      (0008, 1155) Referenced SOP Instance UID         UI: 1.3.12.2.1107.5.1.4.1018.30000011072103541962500002513\n",
       "      ---------\n",
       "   (3006, 0042) Contour Geometric Type              CS: 'CLOSED_PLANAR'\n",
       "   (3006, 0046) Number of Contour Points            IS: \"70\"\n",
       "   (3006, 0050) Contour Data                        DS: Array of 210 elements\n",
       "   ---------\n",
       "   (3006, 0016)  Contour Image Sequence  1 item(s) ---- \n",
       "      (0008, 1150) Referenced SOP Class UID            UI: CT Image Storage\n",
       "      (0008, 1155) Referenced SOP Instance UID         UI: 1.3.12.2.1107.5.1.4.1018.30000011072103541962500002512\n",
       "      ---------\n",
       "   (3006, 0042) Contour Geometric Type              CS: 'CLOSED_PLANAR'\n",
       "   (3006, 0046) Number of Contour Points            IS: \"68\"\n",
       "   (3006, 0050) Contour Data                        DS: Array of 204 elements\n",
       "   ---------\n",
       "   (3006, 0016)  Contour Image Sequence  1 item(s) ---- \n",
       "      (0008, 1150) Referenced SOP Class UID            UI: CT Image Storage\n",
       "      (0008, 1155) Referenced SOP Instance UID         UI: 1.3.12.2.1107.5.1.4.1018.30000011072103541962500002511\n",
       "      ---------\n",
       "   (3006, 0042) Contour Geometric Type              CS: 'CLOSED_PLANAR'\n",
       "   (3006, 0046) Number of Contour Points            IS: \"62\"\n",
       "   (3006, 0050) Contour Data                        DS: Array of 186 elements\n",
       "   ---------\n",
       "   (3006, 0016)  Contour Image Sequence  1 item(s) ---- \n",
       "      (0008, 1150) Referenced SOP Class UID            UI: CT Image Storage\n",
       "      (0008, 1155) Referenced SOP Instance UID         UI: 1.3.12.2.1107.5.1.4.1018.30000011072103541962500002510\n",
       "      ---------\n",
       "   (3006, 0042) Contour Geometric Type              CS: 'CLOSED_PLANAR'\n",
       "   (3006, 0046) Number of Contour Points            IS: \"60\"\n",
       "   (3006, 0050) Contour Data                        DS: Array of 180 elements\n",
       "   ---------\n",
       "   (3006, 0016)  Contour Image Sequence  1 item(s) ---- \n",
       "      (0008, 1150) Referenced SOP Class UID            UI: CT Image Storage\n",
       "      (0008, 1155) Referenced SOP Instance UID         UI: 1.3.12.2.1107.5.1.4.1018.30000011072103541962500002509\n",
       "      ---------\n",
       "   (3006, 0042) Contour Geometric Type              CS: 'CLOSED_PLANAR'\n",
       "   (3006, 0046) Number of Contour Points            IS: \"50\"\n",
       "   (3006, 0050) Contour Data                        DS: Array of 150 elements\n",
       "   ---------\n",
       "   (3006, 0016)  Contour Image Sequence  1 item(s) ---- \n",
       "      (0008, 1150) Referenced SOP Class UID            UI: CT Image Storage\n",
       "      (0008, 1155) Referenced SOP Instance UID         UI: 1.3.12.2.1107.5.1.4.1018.30000011072103541962500002508\n",
       "      ---------\n",
       "   (3006, 0042) Contour Geometric Type              CS: 'CLOSED_PLANAR'\n",
       "   (3006, 0046) Number of Contour Points            IS: \"44\"\n",
       "   (3006, 0050) Contour Data                        DS: Array of 132 elements\n",
       "   ---------\n",
       "(3006, 0084) Referenced ROI Number               IS: \"1\""
      ]
     },
     "execution_count": 15,
     "metadata": {},
     "output_type": "execute_result"
    }
   ],
   "source": [
    "contours[0]"
   ]
  },
  {
   "cell_type": "code",
   "execution_count": 16,
   "id": "southeast-opportunity",
   "metadata": {},
   "outputs": [
    {
     "data": {
      "text/plain": [
       "'1.3.12.2.1107.5.1.4.1018.30000011072103541962500002531'"
      ]
     },
     "execution_count": 16,
     "metadata": {},
     "output_type": "execute_result"
    }
   ],
   "source": [
    "contours[0].ContourSequence[0].ContourImageSequence[0].ReferencedSOPInstanceUID"
   ]
  },
  {
   "cell_type": "code",
   "execution_count": 23,
   "id": "chicken-stroke",
   "metadata": {},
   "outputs": [],
   "source": [
    "cdata01 = contours[0].ContourSequence[0].ContourData"
   ]
  },
  {
   "cell_type": "code",
   "execution_count": 18,
   "id": "funny-microphone",
   "metadata": {},
   "outputs": [
    {
     "data": {
      "text/plain": [
       "'1.3.12.2.1107.5.1.4.1018.30000011072103541962500002688'"
      ]
     },
     "execution_count": 18,
     "metadata": {},
     "output_type": "execute_result"
    }
   ],
   "source": [
    "first_patient[0].SOPInstanceUID"
   ]
  },
  {
   "cell_type": "code",
   "execution_count": 19,
   "id": "desirable-exception",
   "metadata": {},
   "outputs": [
    {
     "name": "stdout",
     "output_type": "stream",
     "text": [
      "Scan No: 157 and Image Position is [-349.31640625, -522.31640625, -942]\n"
     ]
    }
   ],
   "source": [
    "i=0\n",
    "for scan in first_patient:\n",
    "    if scan.SOPInstanceUID == contours[0].ContourSequence[0].ContourImageSequence[0].ReferencedSOPInstanceUID:\n",
    "        print(f'Scan No: {i} and Image Position is {scan.ImagePositionPatient}')\n",
    "    i +=1"
   ]
  },
  {
   "cell_type": "code",
   "execution_count": 20,
   "id": "mineral-league",
   "metadata": {},
   "outputs": [
    {
     "data": {
      "text/plain": [
       "[-349.31640625, -522.31640625, -942]"
      ]
     },
     "execution_count": 20,
     "metadata": {},
     "output_type": "execute_result"
    }
   ],
   "source": [
    "first_patient[157].ImagePositionPatient"
   ]
  },
  {
   "cell_type": "code",
   "execution_count": 22,
   "id": "boring-workshop",
   "metadata": {},
   "outputs": [
    {
     "data": {
      "text/plain": [
       "<matplotlib.image.AxesImage at 0x7ffc04fe22e0>"
      ]
     },
     "execution_count": 22,
     "metadata": {},
     "output_type": "execute_result"
    },
    {
     "data": {
      "image/png": "[encoded data removed]",
      "text/plain": [
       "<Figure size 432x288 with 1 Axes>"
      ]
     },
     "metadata": {
      "needs_background": "light"
     },
     "output_type": "display_data"
    }
   ],
   "source": [
    "plt.imshow(first_patient[157].pixel_array,cmap=plt.cm.gray)"
   ]
  },
  {
   "cell_type": "code",
   "execution_count": 320,
   "id": "secret-voluntary",
   "metadata": {},
   "outputs": [],
   "source": [
    "x = []\n",
    "y = []\n",
    "i = len(cdata01)\n",
    "m=0\n",
    "while m < i:\n",
    "    x.append(float(cdata01[m]))\n",
    "    m+=3\n",
    "n=1\n",
    "while n < i:\n",
    "    y.append(float(cdata01[n]))\n",
    "    n+=3\n",
    "z = cdata01[2]"
   ]
  },
  {
   "cell_type": "code",
   "execution_count": 321,
   "id": "portable-brain",
   "metadata": {},
   "outputs": [
    {
     "data": {
      "text/plain": [
       "(56, 56)"
      ]
     },
     "execution_count": 321,
     "metadata": {},
     "output_type": "execute_result"
    }
   ],
   "source": [
    "len(x), len(y)"
   ]
  },
  {
   "cell_type": "code",
   "execution_count": 322,
   "id": "australian-folks",
   "metadata": {},
   "outputs": [
    {
     "data": {
      "text/plain": [
       "[<matplotlib.lines.Line2D at 0x7ffc3a73bf10>]"
      ]
     },
     "execution_count": 322,
     "metadata": {},
     "output_type": "execute_result"
    },
    {
     "data": {
      "image/png": "[encoded data removed]",
      "text/plain": [
       "<Figure size 432x288 with 1 Axes>"
      ]
     },
     "metadata": {
      "needs_background": "light"
     },
     "output_type": "display_data"
    }
   ],
   "source": [
    "#plt.imshow(first_patient[157].pixel_array,cmap=plt.cm.gray,alpha=0.1)\n",
    "plt.plot(x,y)"
   ]
  },
  {
   "cell_type": "markdown",
   "id": "plain-algeria",
   "metadata": {},
   "source": [
    "image position -349.31640625, -522.31640625"
   ]
  },
  {
   "cell_type": "code",
   "execution_count": 328,
   "id": "monthly-curve",
   "metadata": {},
   "outputs": [],
   "source": [
    "x_new = (np.array(x)+(-349.31640625))*-1\n",
    "y_new = (np.array(y)+(-522.31640625))*-1"
   ]
  },
  {
   "cell_type": "code",
   "execution_count": 329,
   "id": "under-tuner",
   "metadata": {},
   "outputs": [],
   "source": [
    "y_new = y_new - 360\n",
    "x_new = x_new - 50"
   ]
  },
  {
   "cell_type": "code",
   "execution_count": 330,
   "id": "unable-bottom",
   "metadata": {},
   "outputs": [
    {
     "data": {
      "text/plain": [
       "[<matplotlib.lines.Line2D at 0x7ffc5ea3dbe0>]"
      ]
     },
     "execution_count": 330,
     "metadata": {},
     "output_type": "execute_result"
    },
    {
     "data": {
      "image/png": "[encoded data removed]",
      "text/plain": [
       "<Figure size 432x288 with 1 Axes>"
      ]
     },
     "metadata": {
      "needs_background": "light"
     },
     "output_type": "display_data"
    }
   ],
   "source": [
    "plt.plot(x_new,y_new)"
   ]
  },
  {
   "cell_type": "code",
   "execution_count": 331,
   "id": "vietnamese-morrison",
   "metadata": {},
   "outputs": [
    {
     "data": {
      "text/plain": [
       "[<matplotlib.lines.Line2D at 0x7ffc5ecfb7c0>]"
      ]
     },
     "execution_count": 331,
     "metadata": {},
     "output_type": "execute_result"
    },
    {
     "data": {
      "image/png": "[encoded data removed]",
      "text/plain": [
       "<Figure size 1728x864 with 1 Axes>"
      ]
     },
     "metadata": {
      "needs_background": "light"
     },
     "output_type": "display_data"
    }
   ],
   "source": [
    "plt.figure(figsize=(24,12))\n",
    "plt.imshow(first_patient[157].pixel_array,cmap=plt.cm.gray,alpha=0.6)\n",
    "plt.plot(x_new,y_new)"
   ]
  },
  {
   "cell_type": "code",
   "execution_count": 255,
   "id": "charitable-chest",
   "metadata": {},
   "outputs": [],
   "source": [
    "contours[0].ContourSequence[0].ContourImageSequence[0].ReferencedSOPInstanceUID\n",
    "cdata01 = contours[0].ContourSequence[0].ContourData"
   ]
  },
  {
   "cell_type": "code",
   "execution_count": 256,
   "id": "adolescent-semester",
   "metadata": {},
   "outputs": [],
   "source": [
    "cdata = []\n",
    "for i in range(len(contours[0].ContourSequence)):\n",
    "    cdata.append(contours[0].ContourSequence[i].ContourData)"
   ]
  },
  {
   "cell_type": "code",
   "execution_count": 257,
   "id": "developing-swift",
   "metadata": {},
   "outputs": [],
   "source": [
    "contour_list = []"
   ]
  },
  {
   "cell_type": "code",
   "execution_count": 295,
   "id": "progressive-joseph",
   "metadata": {},
   "outputs": [],
   "source": [
    "k = 0\n",
    "for data in cdata:\n",
    "    x = []\n",
    "    y = []\n",
    "    i = len(data)\n",
    "    m=0\n",
    "    while m < i:\n",
    "        x.append(float(data[m]))\n",
    "        m+=3\n",
    "    n=1\n",
    "    while n < i:\n",
    "        y.append(float(data[n]))\n",
    "        n+=3\n",
    "    z = [float(data[2])]\n",
    "    tmplist = (x,y,z)\n",
    "    contour_list.append(tmplist)\n",
    "    k+=1"
   ]
  },
  {
   "cell_type": "code",
   "execution_count": 297,
   "id": "daily-string",
   "metadata": {},
   "outputs": [
    {
     "data": {
      "text/plain": [
       "[<matplotlib.lines.Line2D at 0x7ffc180a8eb0>]"
      ]
     },
     "execution_count": 297,
     "metadata": {},
     "output_type": "execute_result"
    },
    {
     "data": {
      "image/png": "[encoded data removed]",
      "text/plain": [
       "<Figure size 432x288 with 1 Axes>"
      ]
     },
     "metadata": {
      "needs_background": "light"
     },
     "output_type": "display_data"
    }
   ],
   "source": [
    "cno = 19\n",
    "plt.plot(contour_list[cno][0],contour_list[cno][1])"
   ]
  },
  {
   "cell_type": "code",
   "execution_count": 299,
   "id": "numeric-efficiency",
   "metadata": {},
   "outputs": [
    {
     "data": {
      "text/plain": [
       "Dataset.file_meta -------------------------------\n",
       "(0002, 0000) File Meta Information Group Length  UL: 164\n",
       "(0002, 0001) File Meta Information Version       OB: b'\\x00\\x01'\n",
       "(0002, 0002) Media Storage SOP Class UID         UI: CT Image Storage\n",
       "(0002, 0003) Media Storage SOP Instance UID      UI: 1.3.12.2.1107.5.1.4.1018.30000011072103541962500002688\n",
       "(0002, 0010) Transfer Syntax UID                 UI: Implicit VR Little Endian\n",
       "(0002, 0012) Implementation Class UID            UI: 1.2.246.352.70.2.1.7\n",
       "-------------------------------------------------\n",
       "(0008, 0005) Specific Character Set              CS: 'ISO_IR 100'\n",
       "(0008, 0008) Image Type                          CS: ['DERIVED', 'PRIMARY', 'AXIAL', 'CT_SOM5 SPI']\n",
       "(0008, 0012) Instance Creation Date              DA: '20200203'\n",
       "(0008, 0013) Instance Creation Time              TM: '164932.190000'\n",
       "(0008, 0016) SOP Class UID                       UI: CT Image Storage\n",
       "(0008, 0018) SOP Instance UID                    UI: 1.3.12.2.1107.5.1.4.1018.30000011072103541962500002688\n",
       "(0008, 0020) Study Date                          DA: '20110721'\n",
       "(0008, 0021) Series Date                         DA: '20110721'\n",
       "(0008, 0023) Content Date                        DA: '20110721'\n",
       "(0008, 0030) Study Time                          TM: '123605'\n",
       "(0008, 0031) Series Time                         TM: '123754.297000'\n",
       "(0008, 0033) Content Time                        TM: '123750.957000'\n",
       "(0008, 0050) Accession Number                    SH: 'DIRRGCI431074'\n",
       "(0008, 0060) Modality                            CS: 'CT'\n",
       "(0008, 0070) Manufacturer                        LO: 'SIEMENS'\n",
       "(0008, 0080) Institution Name                    LO: 'RAJIV GANDHI CANCER INSTITUTE & RESEARCH'\n",
       "(0008, 0090) Referring Physician's Name          PN: 'UNKNOWN^UNKNOWN'\n",
       "(0008, 1010) Station Name                        SH: 'ct58520'\n",
       "(0008, 1030) Study Description                   LO: 'WHOLE BODY PET CT WITHOUT DIAG. CT'\n",
       "(0008, 103e) Series Description                  LO: 'AC_CT'\n",
       "(0008, 1090) Manufacturer's Model Name           LO: 'Biograph 40'\n",
       "(0010, 0010) Patient's Name                      PN: 'ATTAR SINGH'\n",
       "(0010, 0020) Patient ID                          LO: '133673'\n",
       "(0010, 0030) Patient's Birth Date                DA: ''\n",
       "(0010, 0040) Patient's Sex                       CS: 'M'\n",
       "(0018, 0015) Body Part Examined                  CS: 'ABDOMEN'\n",
       "(0018, 0050) Slice Thickness                     DS: \"3.0\"\n",
       "(0018, 0060) KVP                                 DS: \"120.0\"\n",
       "(0018, 0090) Data Collection Diameter            DS: \"500.0\"\n",
       "(0018, 1000) Device Serial Number                LO: '1018'\n",
       "(0018, 1020) Software Versions                   LO: 'syngo CT 2006A'\n",
       "(0018, 1100) Reconstruction Diameter             DS: \"700.0\"\n",
       "(0018, 1110) Distance Source to Detector         DS: \"1040.0\"\n",
       "(0018, 1111) Distance Source to Patient          DS: \"570.0\"\n",
       "(0018, 1120) Gantry/Detector Tilt                DS: \"0.0\"\n",
       "(0018, 1130) Table Height                        DS: \"173.0\"\n",
       "(0018, 1140) Rotation Direction                  CS: 'CW'\n",
       "(0018, 1150) Exposure Time                       IS: \"500\"\n",
       "(0018, 1151) X-Ray Tube Current                  IS: \"80\"\n",
       "(0018, 1152) Exposure                            IS: \"50\"\n",
       "(0018, 1160) Filter Type                         SH: '0'\n",
       "(0018, 1170) Generator Power                     IS: \"9\"\n",
       "(0018, 1190) Focal Spot(s)                       DS: \"1.2\"\n",
       "(0018, 1210) Convolution Kernel                  SH: 'B19f'\n",
       "(0018, 5100) Patient Position                    CS: 'HFS'\n",
       "(0020, 000d) Study Instance UID                  UI: 1.2.840.113845.11.1000000001951524609.20110719101301.1122913\n",
       "(0020, 000e) Series Instance UID                 UI: 1.3.12.2.1107.5.1.4.1018.30000011072103541962500002398\n",
       "(0020, 0010) Study ID                            SH: '16793'\n",
       "(0020, 0011) Series Number                       IS: \"2\"\n",
       "(0020, 0012) Acquisition Number                  IS: \"2\"\n",
       "(0020, 0013) Instance Number                     IS: \"290\"\n",
       "(0020, 0032) Image Position (Patient)            DS: [-349.31640625, -522.31640625, -1413]\n",
       "(0020, 0037) Image Orientation (Patient)         DS: [1, 0, 0, 0, 1, 0]\n",
       "(0020, 0052) Frame of Reference UID              UI: 1.3.12.2.1107.5.1.4.1018.30000011072103450828100000872\n",
       "(0020, 1040) Position Reference Indicator        LO: ''\n",
       "(0020, 1041) Slice Location                      DS: \"-1413.0\"\n",
       "(0028, 0002) Samples per Pixel                   US: 1\n",
       "(0028, 0004) Photometric Interpretation          CS: 'MONOCHROME2'\n",
       "(0028, 0010) Rows                                US: 512\n",
       "(0028, 0011) Columns                             US: 512\n",
       "(0028, 0030) Pixel Spacing                       DS: [1.3671875, 1.3671875]\n",
       "(0028, 0100) Bits Allocated                      US: 16\n",
       "(0028, 0101) Bits Stored                         US: 12\n",
       "(0028, 0102) High Bit                            US: 11\n",
       "(0028, 0103) Pixel Representation                US: 0\n",
       "(0028, 1050) Window Center                       DS: \"40.0\"\n",
       "(0028, 1051) Window Width                        DS: \"300.0\"\n",
       "(0028, 1052) Rescale Intercept                   DS: \"-1024.0\"\n",
       "(0028, 1053) Rescale Slope                       DS: \"1.0\"\n",
       "(3253, 0010) Private Creator                     LO: 'Varian Medical Systems VISION 3253'\n",
       "(3253, 1000) [XML stream.]                       UN: Array of 160 elements\n",
       "(3253, 1001) [Data length of the XML stream]     UN: b'0 '\n",
       "(3253, 1002) [Extended Interface Format tag]     UN: b'ImageProcessing '\n",
       "(7fe0, 0010) Pixel Data                          OW: Array of 524288 elements"
      ]
     },
     "execution_count": 299,
     "metadata": {},
     "output_type": "execute_result"
    }
   ],
   "source": [
    "first_patient[0]"
   ]
  },
  {
   "cell_type": "code",
   "execution_count": 334,
   "id": "twelve-jurisdiction",
   "metadata": {},
   "outputs": [
    {
     "data": {
      "text/plain": [
       "870"
      ]
     },
     "execution_count": 334,
     "metadata": {},
     "output_type": "execute_result"
    }
   ],
   "source": [
    "len(pix_resampled)"
   ]
  },
  {
   "cell_type": "code",
   "execution_count": null,
   "id": "linear-links",
   "metadata": {},
   "outputs": [],
   "source": []
  },
  {
   "cell_type": "code",
   "execution_count": null,
   "id": "objective-durham",
   "metadata": {},
   "outputs": [],
   "source": []
  },
  {
   "cell_type": "code",
   "execution_count": null,
   "id": "actual-divide",
   "metadata": {},
   "outputs": [],
   "source": []
  },
  {
   "cell_type": "code",
   "execution_count": null,
   "id": "binary-description",
   "metadata": {},
   "outputs": [],
   "source": []
  },
  {
   "cell_type": "code",
   "execution_count": null,
   "id": "unsigned-preliminary",
   "metadata": {},
   "outputs": [],
   "source": []
  },
  {
   "cell_type": "code",
   "execution_count": null,
   "id": "interested-civilian",
   "metadata": {},
   "outputs": [],
   "source": []
  }
 ],
 "metadata": {
  "kernelspec": {
   "display_name": "Python 3",
   "language": "python",
   "name": "python3"
  },
  "language_info": {
   "codemirror_mode": {
    "name": "ipython",
    "version": 3
   },
   "file_extension": ".py",
   "mimetype": "text/x-python",
   "name": "python",
   "nbconvert_exporter": "python",
   "pygments_lexer": "ipython3",
   "version": "3.8.6"
  }
 },
 "nbformat": 4,
 "nbformat_minor": 5
}
